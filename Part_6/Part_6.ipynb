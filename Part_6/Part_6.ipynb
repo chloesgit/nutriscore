{
 "cells": [
  {
   "cell_type": "code",
   "execution_count": 1,
   "id": "5a68c563",
   "metadata": {},
   "outputs": [],
   "source": [
    "import numpy as np # linear algebra\n",
    "import pandas as pd # data processing, CSV file I/O (e.g. pd.read_csv)\n",
    "import matplotlib.pyplot as plt # data visualization\n",
    "import seaborn as sns # statistical data visualization\n",
    "%matplotlib inline\n",
    "\n"
   ]
  },
  {
   "cell_type": "code",
   "execution_count": 193,
   "id": "473808a9",
   "metadata": {},
   "outputs": [],
   "source": [
    "data = 'final_dataset.csv'\n",
    "\n",
    "df = pd.read_csv(data)"
   ]
  },
  {
   "cell_type": "code",
   "execution_count": 195,
   "id": "92eadffe",
   "metadata": {},
   "outputs": [
    {
     "data": {
      "text/html": [
       "<div>\n",
       "<style scoped>\n",
       "    .dataframe tbody tr th:only-of-type {\n",
       "        vertical-align: middle;\n",
       "    }\n",
       "\n",
       "    .dataframe tbody tr th {\n",
       "        vertical-align: top;\n",
       "    }\n",
       "\n",
       "    .dataframe thead th {\n",
       "        text-align: right;\n",
       "    }\n",
       "</style>\n",
       "<table border=\"1\" class=\"dataframe\">\n",
       "  <thead>\n",
       "    <tr style=\"text-align: right;\">\n",
       "      <th></th>\n",
       "      <th>code</th>\n",
       "      <th>name</th>\n",
       "      <th>quantity</th>\n",
       "      <th>brands</th>\n",
       "      <th>Energy</th>\n",
       "      <th>Saturated_fatty_acids</th>\n",
       "      <th>Sugars</th>\n",
       "      <th>Fiber</th>\n",
       "      <th>Proteins</th>\n",
       "      <th>Salt</th>\n",
       "      <th>Fruit/vegetable</th>\n",
       "      <th>Nutriscore</th>\n",
       "      <th>Nutriscore_point</th>\n",
       "    </tr>\n",
       "  </thead>\n",
       "  <tbody>\n",
       "    <tr>\n",
       "      <th>0</th>\n",
       "      <td>3.266191e+12</td>\n",
       "      <td>Barres croustillantes tout chocolat</td>\n",
       "      <td>125</td>\n",
       "      <td>La Vie Claire</td>\n",
       "      <td>426.0</td>\n",
       "      <td>9.40</td>\n",
       "      <td>34.00</td>\n",
       "      <td>12.00</td>\n",
       "      <td>6.50</td>\n",
       "      <td>0.01</td>\n",
       "      <td>0.0</td>\n",
       "      <td>d</td>\n",
       "      <td>16.0</td>\n",
       "    </tr>\n",
       "    <tr>\n",
       "      <th>1</th>\n",
       "      <td>3.228857e+12</td>\n",
       "      <td>Doo Wap pépites choco sans additif</td>\n",
       "      <td>320</td>\n",
       "      <td>Harrys</td>\n",
       "      <td>340.0</td>\n",
       "      <td>3.50</td>\n",
       "      <td>18.00</td>\n",
       "      <td>4.40</td>\n",
       "      <td>8.00</td>\n",
       "      <td>0.75</td>\n",
       "      <td>0.0</td>\n",
       "      <td>c</td>\n",
       "      <td>9.0</td>\n",
       "    </tr>\n",
       "    <tr>\n",
       "      <th>2</th>\n",
       "      <td>3.228857e+12</td>\n",
       "      <td>Brioche tranchée aux pépites de chocolat</td>\n",
       "      <td>485</td>\n",
       "      <td>Harrys</td>\n",
       "      <td>357.0</td>\n",
       "      <td>2.70</td>\n",
       "      <td>16.60</td>\n",
       "      <td>5.20</td>\n",
       "      <td>7.00</td>\n",
       "      <td>0.65</td>\n",
       "      <td>0.0</td>\n",
       "      <td>c</td>\n",
       "      <td>6.0</td>\n",
       "    </tr>\n",
       "    <tr>\n",
       "      <th>3</th>\n",
       "      <td>3.270161e+12</td>\n",
       "      <td>Petits sablés chocolat noir et sel de guérande</td>\n",
       "      <td>120</td>\n",
       "      <td>Picard</td>\n",
       "      <td>508.0</td>\n",
       "      <td>16.00</td>\n",
       "      <td>27.00</td>\n",
       "      <td>4.00</td>\n",
       "      <td>6.50</td>\n",
       "      <td>1.10</td>\n",
       "      <td>0.0</td>\n",
       "      <td>e</td>\n",
       "      <td>21.0</td>\n",
       "    </tr>\n",
       "    <tr>\n",
       "      <th>4</th>\n",
       "      <td>3.228857e+12</td>\n",
       "      <td>Brioche tranchée harrys au chocolat et à la no...</td>\n",
       "      <td>450</td>\n",
       "      <td>Harrys</td>\n",
       "      <td>348.0</td>\n",
       "      <td>4.30</td>\n",
       "      <td>14.00</td>\n",
       "      <td>7.00</td>\n",
       "      <td>9.20</td>\n",
       "      <td>0.90</td>\n",
       "      <td>9.7</td>\n",
       "      <td>c</td>\n",
       "      <td>9.0</td>\n",
       "    </tr>\n",
       "    <tr>\n",
       "      <th>...</th>\n",
       "      <td>...</td>\n",
       "      <td>...</td>\n",
       "      <td>...</td>\n",
       "      <td>...</td>\n",
       "      <td>...</td>\n",
       "      <td>...</td>\n",
       "      <td>...</td>\n",
       "      <td>...</td>\n",
       "      <td>...</td>\n",
       "      <td>...</td>\n",
       "      <td>...</td>\n",
       "      <td>...</td>\n",
       "      <td>...</td>\n",
       "    </tr>\n",
       "    <tr>\n",
       "      <th>234</th>\n",
       "      <td>3.770000e+12</td>\n",
       "      <td>Barre cacahuètes</td>\n",
       "      <td>45</td>\n",
       "      <td>Go Nuts</td>\n",
       "      <td>496.0</td>\n",
       "      <td>5.08</td>\n",
       "      <td>23.65</td>\n",
       "      <td>7.84</td>\n",
       "      <td>15.54</td>\n",
       "      <td>0.35</td>\n",
       "      <td>0.0</td>\n",
       "      <td>c</td>\n",
       "      <td>10.0</td>\n",
       "    </tr>\n",
       "    <tr>\n",
       "      <th>235</th>\n",
       "      <td>3.770000e+12</td>\n",
       "      <td>Biscuits Chocolat et Noisettes 100g BIO</td>\n",
       "      <td>100</td>\n",
       "      <td>Bam&amp;Co</td>\n",
       "      <td>512.0</td>\n",
       "      <td>3.80</td>\n",
       "      <td>22.00</td>\n",
       "      <td>8.40</td>\n",
       "      <td>5.90</td>\n",
       "      <td>0.15</td>\n",
       "      <td>27.0</td>\n",
       "      <td>c</td>\n",
       "      <td>8.0</td>\n",
       "    </tr>\n",
       "    <tr>\n",
       "      <th>236</th>\n",
       "      <td>4.010000e+12</td>\n",
       "      <td>BARRE MUESLI AU CHOCOLAT 4X29G SANS HUILE DE P...</td>\n",
       "      <td>120</td>\n",
       "      <td>Rapunzel</td>\n",
       "      <td>383.0</td>\n",
       "      <td>2.50</td>\n",
       "      <td>21.00</td>\n",
       "      <td>3.00</td>\n",
       "      <td>5.00</td>\n",
       "      <td>0.60</td>\n",
       "      <td>0.0</td>\n",
       "      <td>c</td>\n",
       "      <td>9.0</td>\n",
       "    </tr>\n",
       "    <tr>\n",
       "      <th>237</th>\n",
       "      <td>3.760000e+12</td>\n",
       "      <td>Pâte de datte et fruits séchés - Physalis Grenade</td>\n",
       "      <td>105</td>\n",
       "      <td>Ethiquable</td>\n",
       "      <td>379.0</td>\n",
       "      <td>4.90</td>\n",
       "      <td>26.00</td>\n",
       "      <td>9.90</td>\n",
       "      <td>4.10</td>\n",
       "      <td>0.00</td>\n",
       "      <td>48.0</td>\n",
       "      <td>c</td>\n",
       "      <td>7.0</td>\n",
       "    </tr>\n",
       "    <tr>\n",
       "      <th>238</th>\n",
       "      <td>3.760000e+12</td>\n",
       "      <td>Barre Physalis Grenade pâte de datte et fruits...</td>\n",
       "      <td>35</td>\n",
       "      <td>Ethiquable</td>\n",
       "      <td>379.0</td>\n",
       "      <td>4.90</td>\n",
       "      <td>26.00</td>\n",
       "      <td>9.90</td>\n",
       "      <td>4.10</td>\n",
       "      <td>0.00</td>\n",
       "      <td>48.0</td>\n",
       "      <td>c</td>\n",
       "      <td>7.0</td>\n",
       "    </tr>\n",
       "  </tbody>\n",
       "</table>\n",
       "<p>239 rows × 13 columns</p>\n",
       "</div>"
      ],
      "text/plain": [
       "             code                                               name quantity  \\\n",
       "0    3.266191e+12                Barres croustillantes tout chocolat      125   \n",
       "1    3.228857e+12                 Doo Wap pépites choco sans additif      320   \n",
       "2    3.228857e+12           Brioche tranchée aux pépites de chocolat      485   \n",
       "3    3.270161e+12     Petits sablés chocolat noir et sel de guérande      120   \n",
       "4    3.228857e+12  Brioche tranchée harrys au chocolat et à la no...      450   \n",
       "..            ...                                                ...      ...   \n",
       "234  3.770000e+12                                   Barre cacahuètes       45   \n",
       "235  3.770000e+12            Biscuits Chocolat et Noisettes 100g BIO      100   \n",
       "236  4.010000e+12  BARRE MUESLI AU CHOCOLAT 4X29G SANS HUILE DE P...      120   \n",
       "237  3.760000e+12  Pâte de datte et fruits séchés - Physalis Grenade      105   \n",
       "238  3.760000e+12  Barre Physalis Grenade pâte de datte et fruits...       35   \n",
       "\n",
       "            brands  Energy  Saturated_fatty_acids  Sugars  Fiber  Proteins  \\\n",
       "0    La Vie Claire   426.0                   9.40   34.00  12.00      6.50   \n",
       "1           Harrys   340.0                   3.50   18.00   4.40      8.00   \n",
       "2           Harrys   357.0                   2.70   16.60   5.20      7.00   \n",
       "3           Picard   508.0                  16.00   27.00   4.00      6.50   \n",
       "4           Harrys   348.0                   4.30   14.00   7.00      9.20   \n",
       "..             ...     ...                    ...     ...    ...       ...   \n",
       "234        Go Nuts   496.0                   5.08   23.65   7.84     15.54   \n",
       "235         Bam&Co   512.0                   3.80   22.00   8.40      5.90   \n",
       "236       Rapunzel   383.0                   2.50   21.00   3.00      5.00   \n",
       "237     Ethiquable   379.0                   4.90   26.00   9.90      4.10   \n",
       "238     Ethiquable   379.0                   4.90   26.00   9.90      4.10   \n",
       "\n",
       "     Salt  Fruit/vegetable Nutriscore  Nutriscore_point  \n",
       "0    0.01              0.0          d              16.0  \n",
       "1    0.75              0.0          c               9.0  \n",
       "2    0.65              0.0          c               6.0  \n",
       "3    1.10              0.0          e              21.0  \n",
       "4    0.90              9.7          c               9.0  \n",
       "..    ...              ...        ...               ...  \n",
       "234  0.35              0.0          c              10.0  \n",
       "235  0.15             27.0          c               8.0  \n",
       "236  0.60              0.0          c               9.0  \n",
       "237  0.00             48.0          c               7.0  \n",
       "238  0.00             48.0          c               7.0  \n",
       "\n",
       "[239 rows x 13 columns]"
      ]
     },
     "execution_count": 195,
     "metadata": {},
     "output_type": "execute_result"
    }
   ],
   "source": [
    "df"
   ]
  },
  {
   "cell_type": "markdown",
   "id": "8903de19",
   "metadata": {},
   "source": [
    "### exploratory data analysis"
   ]
  },
  {
   "cell_type": "code",
   "execution_count": 196,
   "id": "c80a7b68",
   "metadata": {},
   "outputs": [
    {
     "data": {
      "text/html": [
       "<div>\n",
       "<style scoped>\n",
       "    .dataframe tbody tr th:only-of-type {\n",
       "        vertical-align: middle;\n",
       "    }\n",
       "\n",
       "    .dataframe tbody tr th {\n",
       "        vertical-align: top;\n",
       "    }\n",
       "\n",
       "    .dataframe thead th {\n",
       "        text-align: right;\n",
       "    }\n",
       "</style>\n",
       "<table border=\"1\" class=\"dataframe\">\n",
       "  <thead>\n",
       "    <tr style=\"text-align: right;\">\n",
       "      <th></th>\n",
       "      <th>code</th>\n",
       "      <th>Energy</th>\n",
       "      <th>Saturated_fatty_acids</th>\n",
       "      <th>Sugars</th>\n",
       "      <th>Fiber</th>\n",
       "      <th>Proteins</th>\n",
       "      <th>Salt</th>\n",
       "      <th>Fruit/vegetable</th>\n",
       "      <th>Nutriscore_point</th>\n",
       "    </tr>\n",
       "  </thead>\n",
       "  <tbody>\n",
       "    <tr>\n",
       "      <th>count</th>\n",
       "      <td>2.390000e+02</td>\n",
       "      <td>239.000000</td>\n",
       "      <td>239.000000</td>\n",
       "      <td>239.000000</td>\n",
       "      <td>239.000000</td>\n",
       "      <td>239.000000</td>\n",
       "      <td>239.000000</td>\n",
       "      <td>239.000000</td>\n",
       "      <td>239.000000</td>\n",
       "    </tr>\n",
       "    <tr>\n",
       "      <th>mean</th>\n",
       "      <td>3.703202e+12</td>\n",
       "      <td>398.697238</td>\n",
       "      <td>8.687573</td>\n",
       "      <td>22.721088</td>\n",
       "      <td>6.149916</td>\n",
       "      <td>7.604477</td>\n",
       "      <td>0.264238</td>\n",
       "      <td>7.229205</td>\n",
       "      <td>9.690377</td>\n",
       "    </tr>\n",
       "    <tr>\n",
       "      <th>std</th>\n",
       "      <td>1.100375e+12</td>\n",
       "      <td>136.670608</td>\n",
       "      <td>9.027289</td>\n",
       "      <td>10.613884</td>\n",
       "      <td>3.813102</td>\n",
       "      <td>3.087070</td>\n",
       "      <td>0.319531</td>\n",
       "      <td>15.764164</td>\n",
       "      <td>7.907843</td>\n",
       "    </tr>\n",
       "    <tr>\n",
       "      <th>min</th>\n",
       "      <td>1.330512e+07</td>\n",
       "      <td>49.000000</td>\n",
       "      <td>0.000000</td>\n",
       "      <td>0.000000</td>\n",
       "      <td>0.000000</td>\n",
       "      <td>0.090000</td>\n",
       "      <td>0.000000</td>\n",
       "      <td>0.000000</td>\n",
       "      <td>-6.000000</td>\n",
       "    </tr>\n",
       "    <tr>\n",
       "      <th>25%</th>\n",
       "      <td>3.270161e+12</td>\n",
       "      <td>364.000000</td>\n",
       "      <td>2.450000</td>\n",
       "      <td>16.200000</td>\n",
       "      <td>2.900000</td>\n",
       "      <td>5.950000</td>\n",
       "      <td>0.040000</td>\n",
       "      <td>0.000000</td>\n",
       "      <td>2.000000</td>\n",
       "    </tr>\n",
       "    <tr>\n",
       "      <th>50%</th>\n",
       "      <td>3.560000e+12</td>\n",
       "      <td>404.000000</td>\n",
       "      <td>4.300000</td>\n",
       "      <td>22.000000</td>\n",
       "      <td>6.200000</td>\n",
       "      <td>7.500000</td>\n",
       "      <td>0.150000</td>\n",
       "      <td>0.000000</td>\n",
       "      <td>9.000000</td>\n",
       "    </tr>\n",
       "    <tr>\n",
       "      <th>75%</th>\n",
       "      <td>3.770000e+12</td>\n",
       "      <td>499.500000</td>\n",
       "      <td>14.000000</td>\n",
       "      <td>28.000000</td>\n",
       "      <td>8.650000</td>\n",
       "      <td>9.250000</td>\n",
       "      <td>0.360000</td>\n",
       "      <td>8.383500</td>\n",
       "      <td>17.000000</td>\n",
       "    </tr>\n",
       "    <tr>\n",
       "      <th>max</th>\n",
       "      <td>8.711812e+12</td>\n",
       "      <td>617.000000</td>\n",
       "      <td>42.000000</td>\n",
       "      <td>53.000000</td>\n",
       "      <td>18.000000</td>\n",
       "      <td>25.000000</td>\n",
       "      <td>2.500000</td>\n",
       "      <td>100.000000</td>\n",
       "      <td>27.000000</td>\n",
       "    </tr>\n",
       "  </tbody>\n",
       "</table>\n",
       "</div>"
      ],
      "text/plain": [
       "               code      Energy  Saturated_fatty_acids      Sugars  \\\n",
       "count  2.390000e+02  239.000000             239.000000  239.000000   \n",
       "mean   3.703202e+12  398.697238               8.687573   22.721088   \n",
       "std    1.100375e+12  136.670608               9.027289   10.613884   \n",
       "min    1.330512e+07   49.000000               0.000000    0.000000   \n",
       "25%    3.270161e+12  364.000000               2.450000   16.200000   \n",
       "50%    3.560000e+12  404.000000               4.300000   22.000000   \n",
       "75%    3.770000e+12  499.500000              14.000000   28.000000   \n",
       "max    8.711812e+12  617.000000              42.000000   53.000000   \n",
       "\n",
       "            Fiber    Proteins        Salt  Fruit/vegetable  Nutriscore_point  \n",
       "count  239.000000  239.000000  239.000000       239.000000        239.000000  \n",
       "mean     6.149916    7.604477    0.264238         7.229205          9.690377  \n",
       "std      3.813102    3.087070    0.319531        15.764164          7.907843  \n",
       "min      0.000000    0.090000    0.000000         0.000000         -6.000000  \n",
       "25%      2.900000    5.950000    0.040000         0.000000          2.000000  \n",
       "50%      6.200000    7.500000    0.150000         0.000000          9.000000  \n",
       "75%      8.650000    9.250000    0.360000         8.383500         17.000000  \n",
       "max     18.000000   25.000000    2.500000       100.000000         27.000000  "
      ]
     },
     "execution_count": 196,
     "metadata": {},
     "output_type": "execute_result"
    }
   ],
   "source": [
    "df.describe()"
   ]
  },
  {
   "cell_type": "code",
   "execution_count": 197,
   "id": "197babb4",
   "metadata": {},
   "outputs": [
    {
     "name": "stdout",
     "output_type": "stream",
     "text": [
      "<class 'pandas.core.frame.DataFrame'>\n",
      "RangeIndex: 239 entries, 0 to 238\n",
      "Data columns (total 13 columns):\n",
      " #   Column                 Non-Null Count  Dtype  \n",
      "---  ------                 --------------  -----  \n",
      " 0   code                   239 non-null    float64\n",
      " 1   name                   239 non-null    object \n",
      " 2   quantity               239 non-null    object \n",
      " 3   brands                 239 non-null    object \n",
      " 4   Energy                 239 non-null    float64\n",
      " 5   Saturated_fatty_acids  239 non-null    float64\n",
      " 6   Sugars                 239 non-null    float64\n",
      " 7   Fiber                  239 non-null    float64\n",
      " 8   Proteins               239 non-null    float64\n",
      " 9   Salt                   239 non-null    float64\n",
      " 10  Fruit/vegetable        239 non-null    float64\n",
      " 11  Nutriscore             239 non-null    object \n",
      " 12  Nutriscore_point       239 non-null    float64\n",
      "dtypes: float64(9), object(4)\n",
      "memory usage: 24.4+ KB\n"
     ]
    }
   ],
   "source": [
    "df.info()"
   ]
  },
  {
   "cell_type": "code",
   "execution_count": 198,
   "id": "7ff51b86",
   "metadata": {},
   "outputs": [
    {
     "data": {
      "text/plain": [
       "(239, 13)"
      ]
     },
     "execution_count": 198,
     "metadata": {},
     "output_type": "execute_result"
    }
   ],
   "source": [
    "df.shape"
   ]
  },
  {
   "cell_type": "code",
   "execution_count": 199,
   "id": "70d1dc8b",
   "metadata": {},
   "outputs": [
    {
     "name": "stdout",
     "output_type": "stream",
     "text": [
      "3.230000e+12    10\n",
      "3.770000e+12     8\n",
      "3.560000e+12     6\n",
      "3.760000e+12     5\n",
      "3.270000e+12     4\n",
      "                ..\n",
      "3.701368e+12     1\n",
      "3.770009e+12     1\n",
      "3.760077e+12     1\n",
      "3.770014e+12     1\n",
      "4.010000e+12     1\n",
      "Name: code, Length: 195, dtype: int64\n",
      "Doo Wap pépites choco sans additif                                   4\n",
      "DooWap pépites chocolait ss additif                                  4\n",
      "Harrys brioche tressee aux pepites de chocolat sans additifs 500g    3\n",
      "Brioche tranchée aux pépites de chocolat                             3\n",
      "Barres de céréales abricot, chocolat noir, amande.                   3\n",
      "                                                                    ..\n",
      "Brownie                                                              1\n",
      "Eclats de chocolat noir                                              1\n",
      "Chocolat artisanal de l'ariege gingembre                             1\n",
      "Chocolat noir éclats d'amandes                                       1\n",
      "CRUNCHY Chocolat Noisettes                                           1\n",
      "Name: name, Length: 203, dtype: int64\n",
      "100              40\n",
      "375              16\n",
      "500              13\n",
      "120              10\n",
      "125               9\n",
      "                 ..\n",
      "450  - €.4,23     1\n",
      "200 ml            1\n",
      "1 L e             1\n",
      "250 ml            1\n",
      "330               1\n",
      "Name: quantity, Length: 71, dtype: int64\n",
      "Harrys                         14\n",
      "Belledonne                      6\n",
      "Malo                            5\n",
      "Natifood                        5\n",
      "Biocoop                         5\n",
      "                               ..\n",
      "CARREFOUR BIO, Carrefour        1\n",
      "Le moulin du pivert             1\n",
      "Chocolaterie Saveurs&Nature     1\n",
      "Les Fabuleuses                  1\n",
      "Celnat                          1\n",
      "Name: brands, Length: 146, dtype: int64\n",
      "340.0    8\n",
      "379.0    6\n",
      "357.0    4\n",
      "383.0    4\n",
      "123.0    4\n",
      "        ..\n",
      "580.0    1\n",
      "439.0    1\n",
      "587.0    1\n",
      "384.6    1\n",
      "483.0    1\n",
      "Name: Energy, Length: 156, dtype: int64\n",
      "3.5     9\n",
      "1.1     9\n",
      "2.5     8\n",
      "1.6     6\n",
      "4.0     6\n",
      "       ..\n",
      "21.2    1\n",
      "24.1    1\n",
      "27.4    1\n",
      "6.4     1\n",
      "19.9    1\n",
      "Name: Saturated_fatty_acids, Length: 106, dtype: int64\n",
      "18.00    13\n",
      "14.00    10\n",
      "26.00     9\n",
      "24.00     8\n",
      "20.00     8\n",
      "         ..\n",
      "23.13     1\n",
      "42.20     1\n",
      "31.00     1\n",
      "23.70     1\n",
      "3.90      1\n",
      "Name: Sugars, Length: 105, dtype: int64\n",
      "0.00     19\n",
      "12.00    10\n",
      "5.00      8\n",
      "11.00     8\n",
      "3.90      7\n",
      "         ..\n",
      "2.60      1\n",
      "16.90     1\n",
      "5.60      1\n",
      "0.40      1\n",
      "12.13     1\n",
      "Name: Fiber, Length: 97, dtype: int64\n",
      "6.50     10\n",
      "8.30     10\n",
      "9.00     10\n",
      "7.00      9\n",
      "10.00     8\n",
      "         ..\n",
      "11.10     1\n",
      "1.70      1\n",
      "19.40     1\n",
      "11.16     1\n",
      "0.48      1\n",
      "Name: Proteins, Length: 92, dtype: int64\n",
      "0.00    15\n",
      "0.20    14\n",
      "0.01    12\n",
      "0.02    12\n",
      "0.10    12\n",
      "        ..\n",
      "0.49     1\n",
      "0.67     1\n",
      "0.37     1\n",
      "0.96     1\n",
      "2.50     1\n",
      "Name: Salt, Length: 62, dtype: int64\n",
      "0.000      161\n",
      "9.000        5\n",
      "14.000       4\n",
      "48.000       4\n",
      "27.000       4\n",
      "3.000        3\n",
      "5.000        2\n",
      "2.000        2\n",
      "16.000       2\n",
      "11.111       2\n",
      "13.000       2\n",
      "9.700        2\n",
      "10.000       2\n",
      "38.000       2\n",
      "9.480        2\n",
      "40.500       2\n",
      "20.000       2\n",
      "24.000       2\n",
      "13.200       1\n",
      "14.500       1\n",
      "100.000      1\n",
      "1.500        1\n",
      "16.667       1\n",
      "4.000        1\n",
      "7.000        1\n",
      "5.500        1\n",
      "15.200       1\n",
      "35.700       1\n",
      "84.000       1\n",
      "63.000       1\n",
      "4.100        1\n",
      "8.000        1\n",
      "5.600        1\n",
      "6.000        1\n",
      "75.000       1\n",
      "19.874       1\n",
      "60.000       1\n",
      "8.100        1\n",
      "0.750        1\n",
      "30.000       1\n",
      "64.000       1\n",
      "23.490       1\n",
      "56.800       1\n",
      "40.250       1\n",
      "53.100       1\n",
      "15.000       1\n",
      "10.300       1\n",
      "8.667        1\n",
      "12.000       1\n",
      "35.000       1\n",
      "16.700       1\n",
      "7.200        1\n",
      "Name: Fruit/vegetable, dtype: int64\n",
      "c    86\n",
      "d    49\n",
      "b    45\n",
      "e    40\n",
      "a    19\n",
      "Name: Nutriscore, dtype: int64\n",
      " 9.0     26\n",
      " 7.0     25\n",
      " 0.0     24\n",
      " 17.0    14\n",
      " 1.0     12\n",
      " 16.0    11\n",
      " 10.0    11\n",
      " 8.0     11\n",
      "-1.0     11\n",
      " 6.0     10\n",
      " 2.0      9\n",
      " 18.0     8\n",
      " 19.0     7\n",
      " 22.0     7\n",
      " 12.0     6\n",
      " 21.0     6\n",
      "-2.0      5\n",
      " 20.0     5\n",
      " 24.0     5\n",
      " 25.0     4\n",
      " 11.0     4\n",
      " 23.0     3\n",
      " 14.0     3\n",
      " 5.0      2\n",
      "-4.0      2\n",
      " 26.0     2\n",
      " 15.0     2\n",
      "-6.0      1\n",
      " 13.0     1\n",
      " 27.0     1\n",
      " 4.0      1\n",
      "Name: Nutriscore_point, dtype: int64\n"
     ]
    }
   ],
   "source": [
    "for col in df.columns:\n",
    "    \n",
    "    print(df[col].value_counts()) "
   ]
  },
  {
   "cell_type": "code",
   "execution_count": 200,
   "id": "0e6ea69d",
   "metadata": {
    "scrolled": true
   },
   "outputs": [
    {
     "data": {
      "text/plain": [
       "code          name                                                   quantity  brands                       Energy  Saturated_fatty_acids  Sugars  Fiber  Proteins  Salt    Fruit/vegetable  Nutriscore  Nutriscore_point\n",
       "1.330512e+07  crosti pétales choc'                                   425       j.Favrichon                  115.0   0.60                   7.80    2.40   3.00      0.1100  0.0              a           -1.0                1\n",
       "3.760077e+12  Chocolat 70 % écorces d'orange confites                100       Chocolaterie Saveurs&Nature  541.4   24.48                  23.13   12.13  7.16      0.0000  10.0             d            16.0               1\n",
       "3.701368e+12  Les minis boulettes Tout chocolat Bio                  120       Les Fabuleuses               348.9   6.00                   42.20   3.90   5.10      0.0000  64.0             d            12.0               1\n",
       "3.760000e+12  Barre Physalis Grenade pâte de datte et fruits séchés  35        Ethiquable                   379.0   4.90                   26.00   9.90   4.10      0.0000  48.0             c            7.0                1\n",
       "              Crème chocolat au lait entier 400g CC                  400       Biocoop                      128.0   3.10                   14.00   0.80   3.60      0.1000  0.0              c            5.0                1\n",
       "                                                                                                                                                                                                                            ..\n",
       "3.385050e+12  Galettes au chocolat                                   370       Crêperie Le Masson           281.0   3.00                   31.00   0.40   5.50      0.9000  0.0              d            14.0               1\n",
       "3.396410e+12  Noir Sélection Pérou                                   100       Bonneterre                   580.0   28.00                  24.00   11.00  7.00      0.0254  0.0              d            17.0               1\n",
       "3.396411e+12  Muesli Sarrasin Chocolat                               300       Evernat                      391.0   2.90                   7.40    3.80   9.70      0.4000  0.0              a           -1.0                1\n",
       "              Chocolat noir Inde 70% de cacao                        80        Bonneterre                   571.0   26.00                  29.00   11.00  8.70      0.0200  0.0              d            18.0               1\n",
       "8.711812e+12  Muesli pure chocolade bio                              375.0     zonnatura                    383.0   1.80                   8.10    12.30  12.00     0.0200  1.5              a           -4.0                1\n",
       "Length: 239, dtype: int64"
      ]
     },
     "execution_count": 200,
     "metadata": {},
     "output_type": "execute_result"
    }
   ],
   "source": [
    "df.value_counts()"
   ]
  },
  {
   "cell_type": "code",
   "execution_count": 201,
   "id": "3c910d74",
   "metadata": {},
   "outputs": [
    {
     "data": {
      "text/plain": [
       "c    86\n",
       "d    49\n",
       "b    45\n",
       "e    40\n",
       "a    19\n",
       "Name: Nutriscore, dtype: int64"
      ]
     },
     "execution_count": 201,
     "metadata": {},
     "output_type": "execute_result"
    }
   ],
   "source": [
    "df[\"Nutriscore\"].value_counts() # distribution of target variable "
   ]
  },
  {
   "cell_type": "code",
   "execution_count": 202,
   "id": "10b869f6",
   "metadata": {},
   "outputs": [
    {
     "data": {
      "text/plain": [
       "code                     0\n",
       "name                     0\n",
       "quantity                 0\n",
       "brands                   0\n",
       "Energy                   0\n",
       "Saturated_fatty_acids    0\n",
       "Sugars                   0\n",
       "Fiber                    0\n",
       "Proteins                 0\n",
       "Salt                     0\n",
       "Fruit/vegetable          0\n",
       "Nutriscore               0\n",
       "Nutriscore_point         0\n",
       "dtype: int64"
      ]
     },
     "execution_count": 202,
     "metadata": {},
     "output_type": "execute_result"
    }
   ],
   "source": [
    "df.isnull().sum()  # looking for empty values"
   ]
  },
  {
   "cell_type": "code",
   "execution_count": 215,
   "id": "722e94ab",
   "metadata": {},
   "outputs": [],
   "source": [
    "X = df.drop(['code','quantity','Nutriscore','Nutriscore_point','name','brands'], axis=1)\n",
    "\n",
    "y = df['Nutriscore']"
   ]
  },
  {
   "cell_type": "code",
   "execution_count": 216,
   "id": "8889738e",
   "metadata": {},
   "outputs": [
    {
     "name": "stdout",
     "output_type": "stream",
     "text": [
      "(239, 7) (239,)\n"
     ]
    }
   ],
   "source": [
    "print(X.shape,y.shape)"
   ]
  },
  {
   "cell_type": "markdown",
   "id": "22f35295",
   "metadata": {},
   "source": [
    "### feature engineering"
   ]
  },
  {
   "cell_type": "code",
   "execution_count": 217,
   "id": "363d1e7b",
   "metadata": {
    "scrolled": false
   },
   "outputs": [
    {
     "data": {
      "text/plain": [
       "Energy                   float64\n",
       "Saturated_fatty_acids    float64\n",
       "Sugars                   float64\n",
       "Fiber                    float64\n",
       "Proteins                 float64\n",
       "Salt                     float64\n",
       "Fruit/vegetable          float64\n",
       "dtype: object"
      ]
     },
     "execution_count": 217,
     "metadata": {},
     "output_type": "execute_result"
    }
   ],
   "source": [
    "X.dtypes   # name of product and brand are of type object, we need to convert them into numbers, so ml model can inderstand"
   ]
  },
  {
   "cell_type": "code",
   "execution_count": 218,
   "id": "91725a70",
   "metadata": {
    "scrolled": true
   },
   "outputs": [
    {
     "data": {
      "text/plain": [
       "dtype('O')"
      ]
     },
     "execution_count": 218,
     "metadata": {},
     "output_type": "execute_result"
    }
   ],
   "source": [
    "y.dtypes # target variable is object type"
   ]
  },
  {
   "cell_type": "code",
   "execution_count": 219,
   "id": "af5b0e30",
   "metadata": {},
   "outputs": [],
   "source": [
    "import category_encoders as ce\n",
    "# encode variables with ordinal encoding\n",
    "\n",
    "#encoder = ce.OrdinalEncoder(cols=['product_name_fr','brands','off:nutriscore_grade'])\n",
    "encoder = ce.OrdinalEncoder(cols=['Nutriscore'])\n",
    "y = encoder.fit_transform(y)\n",
    "# X_train = encoder.fit_transform(X_train)\n",
    "\n",
    "# X_test = encoder.transform(X_test)"
   ]
  },
  {
   "cell_type": "code",
   "execution_count": 220,
   "id": "78681749",
   "metadata": {},
   "outputs": [
    {
     "data": {
      "text/plain": [
       "Nutriscore\n",
       "2             86\n",
       "1             49\n",
       "4             45\n",
       "3             40\n",
       "5             19\n",
       "dtype: int64"
      ]
     },
     "execution_count": 220,
     "metadata": {},
     "output_type": "execute_result"
    }
   ],
   "source": [
    "y.value_counts()"
   ]
  },
  {
   "cell_type": "markdown",
   "id": "fd830415",
   "metadata": {},
   "source": [
    "### split into train, test data"
   ]
  },
  {
   "cell_type": "code",
   "execution_count": 221,
   "id": "9cb77339",
   "metadata": {},
   "outputs": [],
   "source": [
    "from sklearn.model_selection import train_test_split\n",
    "\n",
    "X_train, X_test, y_train, y_test = train_test_split(X, y, test_size = 0.33, random_state = 42, stratify = y)"
   ]
  },
  {
   "cell_type": "code",
   "execution_count": 222,
   "id": "e6c0fe91",
   "metadata": {},
   "outputs": [
    {
     "data": {
      "text/plain": [
       "Nutriscore\n",
       "2             57\n",
       "1             33\n",
       "4             30\n",
       "3             27\n",
       "5             13\n",
       "dtype: int64"
      ]
     },
     "execution_count": 222,
     "metadata": {},
     "output_type": "execute_result"
    }
   ],
   "source": [
    "y_train.value_counts()"
   ]
  },
  {
   "cell_type": "code",
   "execution_count": 223,
   "id": "c8b34e51",
   "metadata": {},
   "outputs": [
    {
     "data": {
      "text/plain": [
       "Nutriscore\n",
       "2             29\n",
       "1             16\n",
       "4             15\n",
       "3             13\n",
       "5              6\n",
       "dtype: int64"
      ]
     },
     "execution_count": 223,
     "metadata": {},
     "output_type": "execute_result"
    }
   ],
   "source": [
    "y_test.value_counts()"
   ]
  },
  {
   "cell_type": "markdown",
   "id": "2cf60326",
   "metadata": {},
   "source": [
    "### Decision Tree"
   ]
  },
  {
   "cell_type": "code",
   "execution_count": 260,
   "id": "d2e04625",
   "metadata": {},
   "outputs": [],
   "source": [
    "# import DecisionTreeClassifier\n",
    "\n",
    "from sklearn.tree import DecisionTreeClassifier"
   ]
  },
  {
   "cell_type": "code",
   "execution_count": 275,
   "id": "91949023",
   "metadata": {},
   "outputs": [],
   "source": [
    "from sklearn.tree import DecisionTreeClassifier\n",
    "\n",
    "best_acc = 0\n",
    "\n",
    "for criterion in \"gini\", \"entropy\":\n",
    "    for max_depth in [2,3,4,5,6]:\n",
    "        for min_samples_leaf in [5, 10, 20, 30]:\n",
    "            dtree = DecisionTreeClassifier(max_depth=max_depth, criterion=criterion, min_samples_leaf=min_samples_leaf,random_state=42)\n",
    "            dtree.fit(X_train, y_train)\n",
    "            predicitions = dtree.predict(X_test)\n",
    "            acc = accuracy_score(y_test, predicitions)\n",
    "            if acc > best_acc:\n",
    "                best_params = f\"criterion: {criterion}, max_depth: {max_depth}, min_samples_leaf: {min_samples_leaf}\"\n",
    "                best_acc = acc"
   ]
  },
  {
   "cell_type": "code",
   "execution_count": 276,
   "id": "d19f4558",
   "metadata": {},
   "outputs": [
    {
     "data": {
      "text/plain": [
       "0.7468354430379747"
      ]
     },
     "execution_count": 276,
     "metadata": {},
     "output_type": "execute_result"
    }
   ],
   "source": [
    "best_acc"
   ]
  },
  {
   "cell_type": "code",
   "execution_count": 277,
   "id": "efdb9fd9",
   "metadata": {},
   "outputs": [
    {
     "data": {
      "text/plain": [
       "'criterion: entropy, max_depth: 5, min_samples_leaf: 5'"
      ]
     },
     "execution_count": 277,
     "metadata": {},
     "output_type": "execute_result"
    }
   ],
   "source": [
    "best_params"
   ]
  },
  {
   "cell_type": "code",
   "execution_count": 278,
   "id": "99c6be83",
   "metadata": {},
   "outputs": [
    {
     "data": {
      "text/plain": [
       "DecisionTreeClassifier(criterion='entropy', max_depth=5, min_samples_leaf=5,\n",
       "                       random_state=42)"
      ]
     },
     "execution_count": 278,
     "metadata": {},
     "output_type": "execute_result"
    }
   ],
   "source": [
    "clf_gini = DecisionTreeClassifier(criterion='entropy', max_depth=5, random_state=42,min_samples_leaf=5)\n",
    "\n",
    "\n",
    "# fit the model\n",
    "clf_gini.fit(X_train, y_train)"
   ]
  },
  {
   "cell_type": "code",
   "execution_count": 279,
   "id": "cbf018e5",
   "metadata": {},
   "outputs": [],
   "source": [
    "y_pred_gini = clf_gini.predict(X_test)"
   ]
  },
  {
   "cell_type": "code",
   "execution_count": 280,
   "id": "6f78399f",
   "metadata": {},
   "outputs": [
    {
     "name": "stdout",
     "output_type": "stream",
     "text": [
      "Model accuracy score with criterion gini index: 0.7468\n"
     ]
    }
   ],
   "source": [
    "from sklearn.metrics import accuracy_score\n",
    "\n",
    "print('Model accuracy score with criterion gini index: {0:0.4f}'. format(accuracy_score(y_test, y_pred_gini)))"
   ]
  },
  {
   "cell_type": "code",
   "execution_count": 281,
   "id": "c985890d",
   "metadata": {},
   "outputs": [
    {
     "data": {
      "text/plain": [
       "array([1, 1, 2, 2, 2, 2, 3, 4, 2, 3, 2, 3, 1, 4, 2, 2, 2, 1, 4, 5, 2, 4,\n",
       "       1, 4, 4, 4, 1, 3, 2, 1, 2, 1, 2, 5, 2, 1, 3, 2, 2, 2, 2, 3, 5, 2,\n",
       "       1, 1, 2, 4, 1, 1, 5, 3, 4, 4, 4, 3, 3, 1, 2, 2, 1, 2, 5, 2, 3, 2,\n",
       "       2, 3, 1, 1, 3, 4, 2, 2, 1, 4, 1, 2, 1, 3, 3, 2, 4, 1, 1, 2, 2, 2,\n",
       "       2, 3, 1, 2, 5, 1, 1, 4, 1, 1, 1, 1, 4, 1, 2, 2, 2, 2, 4, 2, 5, 3,\n",
       "       1, 5, 1, 3, 2, 4, 4, 1, 4, 2, 2, 2, 4, 2, 3, 1, 1, 4, 2, 4, 5, 1,\n",
       "       2, 2, 2, 1, 3, 2, 3, 2, 2, 1, 2, 1, 2, 3, 2, 2, 4, 2, 3, 5, 4, 2,\n",
       "       4, 5, 1, 1, 2, 4])"
      ]
     },
     "execution_count": 281,
     "metadata": {},
     "output_type": "execute_result"
    }
   ],
   "source": [
    "y_pred_train_gini = clf_gini.predict(X_train)\n",
    "\n",
    "y_pred_train_gini"
   ]
  },
  {
   "cell_type": "code",
   "execution_count": 282,
   "id": "d18eb7ac",
   "metadata": {},
   "outputs": [
    {
     "name": "stdout",
     "output_type": "stream",
     "text": [
      "Training-set accuracy score: 0.8562\n"
     ]
    }
   ],
   "source": [
    "print('Training-set accuracy score: {0:0.4f}'. format(accuracy_score(y_train, y_pred_train_gini)))"
   ]
  },
  {
   "cell_type": "code",
   "execution_count": 283,
   "id": "f43f771f",
   "metadata": {},
   "outputs": [
    {
     "name": "stdout",
     "output_type": "stream",
     "text": [
      "Training set score: 0.8562\n",
      "Test set score: 0.7468\n"
     ]
    }
   ],
   "source": [
    "# print the scores on training and test set, check overfitting \n",
    "\n",
    "print('Training set score: {:.4f}'.format(clf_gini.score(X_train, y_train)))\n",
    "\n",
    "print('Test set score: {:.4f}'.format(clf_gini.score(X_test, y_test)))"
   ]
  },
  {
   "cell_type": "code",
   "execution_count": 284,
   "id": "e4c901d3",
   "metadata": {},
   "outputs": [
    {
     "data": {
      "text/plain": [
       "(160, 7)"
      ]
     },
     "execution_count": 284,
     "metadata": {},
     "output_type": "execute_result"
    }
   ],
   "source": [
    "X_train.shape"
   ]
  },
  {
   "cell_type": "code",
   "execution_count": 285,
   "id": "2923fd5f",
   "metadata": {},
   "outputs": [
    {
     "data": {
      "text/plain": [
       "[Text(0.6041666666666666, 0.9166666666666666, 'X[1] <= 9.2\\nentropy = 2.18\\nsamples = 160\\nvalue = [33, 57, 27, 30, 13]'),\n",
       " Text(0.375, 0.75, 'X[1] <= 3.25\\nentropy = 1.609\\nsamples = 105\\nvalue = [6, 56, 0, 30, 13]'),\n",
       " Text(0.20833333333333334, 0.5833333333333334, 'X[5] <= 0.455\\nentropy = 1.547\\nsamples = 56\\nvalue = [1, 14, 0, 30, 11]'),\n",
       " Text(0.125, 0.4166666666666667, 'X[2] <= 23.25\\nentropy = 1.244\\nsamples = 46\\nvalue = [0, 5, 0, 30, 11]'),\n",
       " Text(0.08333333333333333, 0.25, 'X[4] <= 9.25\\nentropy = 0.868\\nsamples = 38\\nvalue = [0, 0, 0, 27, 11]'),\n",
       " Text(0.041666666666666664, 0.08333333333333333, 'entropy = 0.605\\nsamples = 27\\nvalue = [0, 0, 0, 23, 4]'),\n",
       " Text(0.125, 0.08333333333333333, 'entropy = 0.946\\nsamples = 11\\nvalue = [0, 0, 0, 4, 7]'),\n",
       " Text(0.16666666666666666, 0.25, 'entropy = 0.954\\nsamples = 8\\nvalue = [0, 5, 0, 3, 0]'),\n",
       " Text(0.2916666666666667, 0.4166666666666667, 'X[5] <= 0.7\\nentropy = 0.469\\nsamples = 10\\nvalue = [1, 9, 0, 0, 0]'),\n",
       " Text(0.25, 0.25, 'entropy = 0.0\\nsamples = 5\\nvalue = [0, 5, 0, 0, 0]'),\n",
       " Text(0.3333333333333333, 0.25, 'entropy = 0.722\\nsamples = 5\\nvalue = [1, 4, 0, 0, 0]'),\n",
       " Text(0.5416666666666666, 0.5833333333333334, 'X[3] <= 7.75\\nentropy = 0.715\\nsamples = 49\\nvalue = [5, 42, 0, 0, 2]'),\n",
       " Text(0.4583333333333333, 0.4166666666666667, 'X[0] <= 348.45\\nentropy = 0.852\\nsamples = 18\\nvalue = [5, 13, 0, 0, 0]'),\n",
       " Text(0.4166666666666667, 0.25, 'entropy = 0.0\\nsamples = 10\\nvalue = [0, 10, 0, 0, 0]'),\n",
       " Text(0.5, 0.25, 'entropy = 0.954\\nsamples = 8\\nvalue = [5, 3, 0, 0, 0]'),\n",
       " Text(0.625, 0.4166666666666667, 'X[3] <= 11.5\\nentropy = 0.345\\nsamples = 31\\nvalue = [0, 29, 0, 0, 2]'),\n",
       " Text(0.5833333333333334, 0.25, 'entropy = 0.0\\nsamples = 26\\nvalue = [0, 26, 0, 0, 0]'),\n",
       " Text(0.6666666666666666, 0.25, 'entropy = 0.971\\nsamples = 5\\nvalue = [0, 3, 0, 0, 2]'),\n",
       " Text(0.8333333333333334, 0.75, 'X[2] <= 31.6\\nentropy = 1.113\\nsamples = 55\\nvalue = [27, 1, 27, 0, 0]'),\n",
       " Text(0.75, 0.5833333333333334, 'X[3] <= 4.15\\nentropy = 0.708\\nsamples = 28\\nvalue = [24, 1, 3, 0, 0]'),\n",
       " Text(0.7083333333333334, 0.4166666666666667, 'entropy = 0.954\\nsamples = 8\\nvalue = [5, 0, 3, 0, 0]'),\n",
       " Text(0.7916666666666666, 0.4166666666666667, 'X[2] <= 21.895\\nentropy = 0.286\\nsamples = 20\\nvalue = [19, 1, 0, 0, 0]'),\n",
       " Text(0.75, 0.25, 'entropy = 0.722\\nsamples = 5\\nvalue = [4, 1, 0, 0, 0]'),\n",
       " Text(0.8333333333333334, 0.25, 'entropy = 0.0\\nsamples = 15\\nvalue = [15, 0, 0, 0, 0]'),\n",
       " Text(0.9166666666666666, 0.5833333333333334, 'X[3] <= 7.95\\nentropy = 0.503\\nsamples = 27\\nvalue = [3, 0, 24, 0, 0]'),\n",
       " Text(0.875, 0.4166666666666667, 'entropy = 0.0\\nsamples = 22\\nvalue = [0, 0, 22, 0, 0]'),\n",
       " Text(0.9583333333333334, 0.4166666666666667, 'entropy = 0.971\\nsamples = 5\\nvalue = [3, 0, 2, 0, 0]')]"
      ]
     },
     "execution_count": 285,
     "metadata": {},
     "output_type": "execute_result"
    },
    {
     "data": {
      "image/png": "[encoded data removed]",
      "text/plain": [
       "<Figure size 1200x800 with 1 Axes>"
      ]
     },
     "metadata": {},
     "output_type": "display_data"
    }
   ],
   "source": [
    "plt.figure(figsize=(12,8))\n",
    "\n",
    "from sklearn import tree\n",
    "\n",
    "tree.plot_tree(clf_gini.fit(X_train, y_train)) "
   ]
  },
  {
   "cell_type": "code",
   "execution_count": 286,
   "id": "3b2c6cf3",
   "metadata": {},
   "outputs": [
    {
     "data": {
      "image/svg+xml": [
       "<?xml version=\"1.0\" encoding=\"UTF-8\" standalone=\"no\"?>\n",
       "<!DOCTYPE svg PUBLIC \"-//W3C//DTD SVG 1.1//EN\"\n",
       " \"http://www.w3.org/Graphics/SVG/1.1/DTD/svg11.dtd\">\n",
       "<!-- Generated by graphviz version 2.50.0 (0)\n",
       " -->\n",
       "<!-- Title: Tree Pages: 1 -->\n",
       "<svg width=\"1851pt\" height=\"671pt\"\n",
       " viewBox=\"0.00 0.00 1850.50 671.00\" xmlns=\"http://www.w3.org/2000/svg\" xmlns:xlink=\"http://www.w3.org/1999/xlink\">\n",
       "<g id=\"graph0\" class=\"graph\" transform=\"scale(1 1) rotate(0) translate(4 667)\">\n",
       "<title>Tree</title>\n",
       "<polygon fill=\"white\" stroke=\"transparent\" points=\"-4,4 -4,-667 1846.5,-667 1846.5,4 -4,4\"/>\n",
       "<!-- 0 -->\n",
       "<g id=\"node1\" class=\"node\">\n",
       "<title>0</title>\n",
       "<path fill=\"#e6fada\" stroke=\"black\" d=\"M1266,-663C1266,-663 1109,-663 1109,-663 1103,-663 1097,-657 1097,-651 1097,-651 1097,-592 1097,-592 1097,-586 1103,-580 1109,-580 1109,-580 1266,-580 1266,-580 1272,-580 1278,-586 1278,-592 1278,-592 1278,-651 1278,-651 1278,-657 1272,-663 1266,-663\"/>\n",
       "<text text-anchor=\"start\" x=\"1105\" y=\"-647.8\" font-family=\"Helvetica,sans-Serif\" font-size=\"14.00\">Saturated_fatty_acids ≤ 9.2</text>\n",
       "<text text-anchor=\"start\" x=\"1143.5\" y=\"-632.8\" font-family=\"Helvetica,sans-Serif\" font-size=\"14.00\">entropy = 2.18</text>\n",
       "<text text-anchor=\"start\" x=\"1142.5\" y=\"-617.8\" font-family=\"Helvetica,sans-Serif\" font-size=\"14.00\">samples = 160</text>\n",
       "<text text-anchor=\"start\" x=\"1107\" y=\"-602.8\" font-family=\"Helvetica,sans-Serif\" font-size=\"14.00\">value = [33, 57, 27, 30, 13]</text>\n",
       "<text text-anchor=\"start\" x=\"1160\" y=\"-587.8\" font-family=\"Helvetica,sans-Serif\" font-size=\"14.00\">class = d</text>\n",
       "</g>\n",
       "<!-- 1 -->\n",
       "<g id=\"node2\" class=\"node\">\n",
       "<title>1</title>\n",
       "<path fill=\"#d1f6ba\" stroke=\"black\" d=\"M1106.5,-544C1106.5,-544 942.5,-544 942.5,-544 936.5,-544 930.5,-538 930.5,-532 930.5,-532 930.5,-473 930.5,-473 930.5,-467 936.5,-461 942.5,-461 942.5,-461 1106.5,-461 1106.5,-461 1112.5,-461 1118.5,-467 1118.5,-473 1118.5,-473 1118.5,-532 1118.5,-532 1118.5,-538 1112.5,-544 1106.5,-544\"/>\n",
       "<text text-anchor=\"start\" x=\"938.5\" y=\"-528.8\" font-family=\"Helvetica,sans-Serif\" font-size=\"14.00\">Saturated_fatty_acids ≤ 3.25</text>\n",
       "<text text-anchor=\"start\" x=\"977\" y=\"-513.8\" font-family=\"Helvetica,sans-Serif\" font-size=\"14.00\">entropy = 1.609</text>\n",
       "<text text-anchor=\"start\" x=\"979.5\" y=\"-498.8\" font-family=\"Helvetica,sans-Serif\" font-size=\"14.00\">samples = 105</text>\n",
       "<text text-anchor=\"start\" x=\"951.5\" y=\"-483.8\" font-family=\"Helvetica,sans-Serif\" font-size=\"14.00\">value = [6, 56, 0, 30, 13]</text>\n",
       "<text text-anchor=\"start\" x=\"997\" y=\"-468.8\" font-family=\"Helvetica,sans-Serif\" font-size=\"14.00\">class = d</text>\n",
       "</g>\n",
       "<!-- 0&#45;&gt;1 -->\n",
       "<g id=\"edge1\" class=\"edge\">\n",
       "<title>0&#45;&gt;1</title>\n",
       "<path fill=\"none\" stroke=\"black\" d=\"M1130.95,-579.91C1117.55,-570.29 1103.15,-559.95 1089.41,-550.09\"/>\n",
       "<polygon fill=\"black\" stroke=\"black\" points=\"1091.12,-547.01 1080.95,-544.02 1087.03,-552.7 1091.12,-547.01\"/>\n",
       "<text text-anchor=\"middle\" x=\"1085\" y=\"-564.99\" font-family=\"Helvetica,sans-Serif\" font-size=\"14.00\">True</text>\n",
       "</g>\n",
       "<!-- 18 -->\n",
       "<g id=\"node19\" class=\"node\">\n",
       "<title>18</title>\n",
       "<path fill=\"#ffffff\" stroke=\"black\" d=\"M1430,-544C1430,-544 1299,-544 1299,-544 1293,-544 1287,-538 1287,-532 1287,-532 1287,-473 1287,-473 1287,-467 1293,-461 1299,-461 1299,-461 1430,-461 1430,-461 1436,-461 1442,-467 1442,-473 1442,-473 1442,-532 1442,-532 1442,-538 1436,-544 1430,-544\"/>\n",
       "<text text-anchor=\"start\" x=\"1322\" y=\"-528.8\" font-family=\"Helvetica,sans-Serif\" font-size=\"14.00\">Sugars ≤ 31.6</text>\n",
       "<text text-anchor=\"start\" x=\"1317.5\" y=\"-513.8\" font-family=\"Helvetica,sans-Serif\" font-size=\"14.00\">entropy = 1.113</text>\n",
       "<text text-anchor=\"start\" x=\"1323.5\" y=\"-498.8\" font-family=\"Helvetica,sans-Serif\" font-size=\"14.00\">samples = 55</text>\n",
       "<text text-anchor=\"start\" x=\"1295\" y=\"-483.8\" font-family=\"Helvetica,sans-Serif\" font-size=\"14.00\">value = [27, 1, 27, 0, 0]</text>\n",
       "<text text-anchor=\"start\" x=\"1337.5\" y=\"-468.8\" font-family=\"Helvetica,sans-Serif\" font-size=\"14.00\">class = c</text>\n",
       "</g>\n",
       "<!-- 0&#45;&gt;18 -->\n",
       "<g id=\"edge18\" class=\"edge\">\n",
       "<title>0&#45;&gt;18</title>\n",
       "<path fill=\"none\" stroke=\"black\" d=\"M1248.91,-579.91C1263.6,-570.2 1279.39,-559.76 1294.44,-549.81\"/>\n",
       "<polygon fill=\"black\" stroke=\"black\" points=\"1296.79,-552.45 1303.2,-544.02 1292.93,-546.62 1296.79,-552.45\"/>\n",
       "<text text-anchor=\"middle\" x=\"1298.2\" y=\"-564.82\" font-family=\"Helvetica,sans-Serif\" font-size=\"14.00\">False</text>\n",
       "</g>\n",
       "<!-- 2 -->\n",
       "<g id=\"node3\" class=\"node\">\n",
       "<title>2</title>\n",
       "<path fill=\"#b5b4f5\" stroke=\"black\" d=\"M629,-425C629,-425 492,-425 492,-425 486,-425 480,-419 480,-413 480,-413 480,-354 480,-354 480,-348 486,-342 492,-342 492,-342 629,-342 629,-342 635,-342 641,-348 641,-354 641,-354 641,-413 641,-413 641,-419 635,-425 629,-425\"/>\n",
       "<text text-anchor=\"start\" x=\"524\" y=\"-409.8\" font-family=\"Helvetica,sans-Serif\" font-size=\"14.00\">Salt ≤ 0.455</text>\n",
       "<text text-anchor=\"start\" x=\"513\" y=\"-394.8\" font-family=\"Helvetica,sans-Serif\" font-size=\"14.00\">entropy = 1.547</text>\n",
       "<text text-anchor=\"start\" x=\"519.5\" y=\"-379.8\" font-family=\"Helvetica,sans-Serif\" font-size=\"14.00\">samples = 56</text>\n",
       "<text text-anchor=\"start\" x=\"488\" y=\"-364.8\" font-family=\"Helvetica,sans-Serif\" font-size=\"14.00\">value = [1, 14, 0, 30, 11]</text>\n",
       "<text text-anchor=\"start\" x=\"533\" y=\"-349.8\" font-family=\"Helvetica,sans-Serif\" font-size=\"14.00\">class = e</text>\n",
       "</g>\n",
       "<!-- 1&#45;&gt;2 -->\n",
       "<g id=\"edge2\" class=\"edge\">\n",
       "<title>1&#45;&gt;2</title>\n",
       "<path fill=\"none\" stroke=\"black\" d=\"M930.32,-477.75C848.78,-457.19 731.6,-427.64 651.12,-407.35\"/>\n",
       "<polygon fill=\"black\" stroke=\"black\" points=\"651.55,-403.85 641,-404.8 649.84,-410.64 651.55,-403.85\"/>\n",
       "</g>\n",
       "<!-- 11 -->\n",
       "<g id=\"node12\" class=\"node\">\n",
       "<title>11</title>\n",
       "<path fill=\"#90e959\" stroke=\"black\" d=\"M1086,-425C1086,-425 963,-425 963,-425 957,-425 951,-419 951,-413 951,-413 951,-354 951,-354 951,-348 957,-342 963,-342 963,-342 1086,-342 1086,-342 1092,-342 1098,-348 1098,-354 1098,-354 1098,-413 1098,-413 1098,-419 1092,-425 1086,-425\"/>\n",
       "<text text-anchor=\"start\" x=\"988\" y=\"-409.8\" font-family=\"Helvetica,sans-Serif\" font-size=\"14.00\">Fiber ≤ 7.75</text>\n",
       "<text text-anchor=\"start\" x=\"977\" y=\"-394.8\" font-family=\"Helvetica,sans-Serif\" font-size=\"14.00\">entropy = 0.715</text>\n",
       "<text text-anchor=\"start\" x=\"983.5\" y=\"-379.8\" font-family=\"Helvetica,sans-Serif\" font-size=\"14.00\">samples = 49</text>\n",
       "<text text-anchor=\"start\" x=\"959\" y=\"-364.8\" font-family=\"Helvetica,sans-Serif\" font-size=\"14.00\">value = [5, 42, 0, 0, 2]</text>\n",
       "<text text-anchor=\"start\" x=\"997\" y=\"-349.8\" font-family=\"Helvetica,sans-Serif\" font-size=\"14.00\">class = d</text>\n",
       "</g>\n",
       "<!-- 1&#45;&gt;11 -->\n",
       "<g id=\"edge11\" class=\"edge\">\n",
       "<title>1&#45;&gt;11</title>\n",
       "<path fill=\"none\" stroke=\"black\" d=\"M1024.5,-460.91C1024.5,-452.65 1024.5,-443.86 1024.5,-435.3\"/>\n",
       "<polygon fill=\"black\" stroke=\"black\" points=\"1028,-435.02 1024.5,-425.02 1021,-435.02 1028,-435.02\"/>\n",
       "</g>\n",
       "<!-- 3 -->\n",
       "<g id=\"node4\" class=\"node\">\n",
       "<title>3</title>\n",
       "<path fill=\"#9594f1\" stroke=\"black\" d=\"M384.5,-306C384.5,-306 254.5,-306 254.5,-306 248.5,-306 242.5,-300 242.5,-294 242.5,-294 242.5,-235 242.5,-235 242.5,-229 248.5,-223 254.5,-223 254.5,-223 384.5,-223 384.5,-223 390.5,-223 396.5,-229 396.5,-235 396.5,-235 396.5,-294 396.5,-294 396.5,-300 390.5,-306 384.5,-306\"/>\n",
       "<text text-anchor=\"start\" x=\"273.5\" y=\"-290.8\" font-family=\"Helvetica,sans-Serif\" font-size=\"14.00\">Sugars ≤ 23.25</text>\n",
       "<text text-anchor=\"start\" x=\"272\" y=\"-275.8\" font-family=\"Helvetica,sans-Serif\" font-size=\"14.00\">entropy = 1.244</text>\n",
       "<text text-anchor=\"start\" x=\"278.5\" y=\"-260.8\" font-family=\"Helvetica,sans-Serif\" font-size=\"14.00\">samples = 46</text>\n",
       "<text text-anchor=\"start\" x=\"250.5\" y=\"-245.8\" font-family=\"Helvetica,sans-Serif\" font-size=\"14.00\">value = [0, 5, 0, 30, 11]</text>\n",
       "<text text-anchor=\"start\" x=\"292\" y=\"-230.8\" font-family=\"Helvetica,sans-Serif\" font-size=\"14.00\">class = e</text>\n",
       "</g>\n",
       "<!-- 2&#45;&gt;3 -->\n",
       "<g id=\"edge3\" class=\"edge\">\n",
       "<title>2&#45;&gt;3</title>\n",
       "<path fill=\"none\" stroke=\"black\" d=\"M479.92,-343.38C456.13,-331.83 430.01,-319.15 405.88,-307.44\"/>\n",
       "<polygon fill=\"black\" stroke=\"black\" points=\"407.27,-304.22 396.74,-303 404.21,-310.51 407.27,-304.22\"/>\n",
       "</g>\n",
       "<!-- 8 -->\n",
       "<g id=\"node9\" class=\"node\">\n",
       "<title>8</title>\n",
       "<path fill=\"#8ae84f\" stroke=\"black\" d=\"M618.5,-306C618.5,-306 502.5,-306 502.5,-306 496.5,-306 490.5,-300 490.5,-294 490.5,-294 490.5,-235 490.5,-235 490.5,-229 496.5,-223 502.5,-223 502.5,-223 618.5,-223 618.5,-223 624.5,-223 630.5,-229 630.5,-235 630.5,-235 630.5,-294 630.5,-294 630.5,-300 624.5,-306 618.5,-306\"/>\n",
       "<text text-anchor=\"start\" x=\"531.5\" y=\"-290.8\" font-family=\"Helvetica,sans-Serif\" font-size=\"14.00\">Salt ≤ 0.7</text>\n",
       "<text text-anchor=\"start\" x=\"513\" y=\"-275.8\" font-family=\"Helvetica,sans-Serif\" font-size=\"14.00\">entropy = 0.469</text>\n",
       "<text text-anchor=\"start\" x=\"519.5\" y=\"-260.8\" font-family=\"Helvetica,sans-Serif\" font-size=\"14.00\">samples = 10</text>\n",
       "<text text-anchor=\"start\" x=\"498.5\" y=\"-245.8\" font-family=\"Helvetica,sans-Serif\" font-size=\"14.00\">value = [1, 9, 0, 0, 0]</text>\n",
       "<text text-anchor=\"start\" x=\"533\" y=\"-230.8\" font-family=\"Helvetica,sans-Serif\" font-size=\"14.00\">class = d</text>\n",
       "</g>\n",
       "<!-- 2&#45;&gt;8 -->\n",
       "<g id=\"edge8\" class=\"edge\">\n",
       "<title>2&#45;&gt;8</title>\n",
       "<path fill=\"none\" stroke=\"black\" d=\"M560.5,-341.91C560.5,-333.65 560.5,-324.86 560.5,-316.3\"/>\n",
       "<polygon fill=\"black\" stroke=\"black\" points=\"564,-316.02 560.5,-306.02 557,-316.02 564,-316.02\"/>\n",
       "</g>\n",
       "<!-- 4 -->\n",
       "<g id=\"node5\" class=\"node\">\n",
       "<title>4</title>\n",
       "<path fill=\"#8b8af0\" stroke=\"black\" d=\"M219.5,-187C219.5,-187 89.5,-187 89.5,-187 83.5,-187 77.5,-181 77.5,-175 77.5,-175 77.5,-116 77.5,-116 77.5,-110 83.5,-104 89.5,-104 89.5,-104 219.5,-104 219.5,-104 225.5,-104 231.5,-110 231.5,-116 231.5,-116 231.5,-175 231.5,-175 231.5,-181 225.5,-187 219.5,-187\"/>\n",
       "<text text-anchor=\"start\" x=\"109\" y=\"-171.8\" font-family=\"Helvetica,sans-Serif\" font-size=\"14.00\">Proteins ≤ 9.25</text>\n",
       "<text text-anchor=\"start\" x=\"107\" y=\"-156.8\" font-family=\"Helvetica,sans-Serif\" font-size=\"14.00\">entropy = 0.868</text>\n",
       "<text text-anchor=\"start\" x=\"113.5\" y=\"-141.8\" font-family=\"Helvetica,sans-Serif\" font-size=\"14.00\">samples = 38</text>\n",
       "<text text-anchor=\"start\" x=\"85.5\" y=\"-126.8\" font-family=\"Helvetica,sans-Serif\" font-size=\"14.00\">value = [0, 0, 0, 27, 11]</text>\n",
       "<text text-anchor=\"start\" x=\"127\" y=\"-111.8\" font-family=\"Helvetica,sans-Serif\" font-size=\"14.00\">class = e</text>\n",
       "</g>\n",
       "<!-- 3&#45;&gt;4 -->\n",
       "<g id=\"edge4\" class=\"edge\">\n",
       "<title>3&#45;&gt;4</title>\n",
       "<path fill=\"none\" stroke=\"black\" d=\"M262.25,-222.91C248.56,-213.2 233.84,-202.76 219.81,-192.81\"/>\n",
       "<polygon fill=\"black\" stroke=\"black\" points=\"221.83,-189.95 211.64,-187.02 217.78,-195.66 221.83,-189.95\"/>\n",
       "</g>\n",
       "<!-- 7 -->\n",
       "<g id=\"node8\" class=\"node\">\n",
       "<title>7</title>\n",
       "<path fill=\"#caf5b0\" stroke=\"black\" d=\"M377.5,-179.5C377.5,-179.5 261.5,-179.5 261.5,-179.5 255.5,-179.5 249.5,-173.5 249.5,-167.5 249.5,-167.5 249.5,-123.5 249.5,-123.5 249.5,-117.5 255.5,-111.5 261.5,-111.5 261.5,-111.5 377.5,-111.5 377.5,-111.5 383.5,-111.5 389.5,-117.5 389.5,-123.5 389.5,-123.5 389.5,-167.5 389.5,-167.5 389.5,-173.5 383.5,-179.5 377.5,-179.5\"/>\n",
       "<text text-anchor=\"start\" x=\"272\" y=\"-164.3\" font-family=\"Helvetica,sans-Serif\" font-size=\"14.00\">entropy = 0.954</text>\n",
       "<text text-anchor=\"start\" x=\"282\" y=\"-149.3\" font-family=\"Helvetica,sans-Serif\" font-size=\"14.00\">samples = 8</text>\n",
       "<text text-anchor=\"start\" x=\"257.5\" y=\"-134.3\" font-family=\"Helvetica,sans-Serif\" font-size=\"14.00\">value = [0, 5, 0, 3, 0]</text>\n",
       "<text text-anchor=\"start\" x=\"292\" y=\"-119.3\" font-family=\"Helvetica,sans-Serif\" font-size=\"14.00\">class = d</text>\n",
       "</g>\n",
       "<!-- 3&#45;&gt;7 -->\n",
       "<g id=\"edge7\" class=\"edge\">\n",
       "<title>3&#45;&gt;7</title>\n",
       "<path fill=\"none\" stroke=\"black\" d=\"M319.5,-222.91C319.5,-212.2 319.5,-200.62 319.5,-189.78\"/>\n",
       "<polygon fill=\"black\" stroke=\"black\" points=\"323,-189.67 319.5,-179.67 316,-189.67 323,-189.67\"/>\n",
       "</g>\n",
       "<!-- 5 -->\n",
       "<g id=\"node6\" class=\"node\">\n",
       "<title>5</title>\n",
       "<path fill=\"#5e5bea\" stroke=\"black\" d=\"M135,-68C135,-68 12,-68 12,-68 6,-68 0,-62 0,-56 0,-56 0,-12 0,-12 0,-6 6,0 12,0 12,0 135,0 135,0 141,0 147,-6 147,-12 147,-12 147,-56 147,-56 147,-62 141,-68 135,-68\"/>\n",
       "<text text-anchor=\"start\" x=\"26\" y=\"-52.8\" font-family=\"Helvetica,sans-Serif\" font-size=\"14.00\">entropy = 0.605</text>\n",
       "<text text-anchor=\"start\" x=\"32.5\" y=\"-37.8\" font-family=\"Helvetica,sans-Serif\" font-size=\"14.00\">samples = 27</text>\n",
       "<text text-anchor=\"start\" x=\"8\" y=\"-22.8\" font-family=\"Helvetica,sans-Serif\" font-size=\"14.00\">value = [0, 0, 0, 23, 4]</text>\n",
       "<text text-anchor=\"start\" x=\"46\" y=\"-7.8\" font-family=\"Helvetica,sans-Serif\" font-size=\"14.00\">class = e</text>\n",
       "</g>\n",
       "<!-- 4&#45;&gt;5 -->\n",
       "<g id=\"edge5\" class=\"edge\">\n",
       "<title>4&#45;&gt;5</title>\n",
       "<path fill=\"none\" stroke=\"black\" d=\"M124.34,-103.73C117.73,-94.79 110.72,-85.32 104.09,-76.36\"/>\n",
       "<polygon fill=\"black\" stroke=\"black\" points=\"106.89,-74.26 98.13,-68.3 101.27,-78.42 106.89,-74.26\"/>\n",
       "</g>\n",
       "<!-- 6 -->\n",
       "<g id=\"node7\" class=\"node\">\n",
       "<title>6</title>\n",
       "<path fill=\"#f4aae4\" stroke=\"black\" d=\"M293.5,-68C293.5,-68 177.5,-68 177.5,-68 171.5,-68 165.5,-62 165.5,-56 165.5,-56 165.5,-12 165.5,-12 165.5,-6 171.5,0 177.5,0 177.5,0 293.5,0 293.5,0 299.5,0 305.5,-6 305.5,-12 305.5,-12 305.5,-56 305.5,-56 305.5,-62 299.5,-68 293.5,-68\"/>\n",
       "<text text-anchor=\"start\" x=\"188\" y=\"-52.8\" font-family=\"Helvetica,sans-Serif\" font-size=\"14.00\">entropy = 0.946</text>\n",
       "<text text-anchor=\"start\" x=\"194.5\" y=\"-37.8\" font-family=\"Helvetica,sans-Serif\" font-size=\"14.00\">samples = 11</text>\n",
       "<text text-anchor=\"start\" x=\"173.5\" y=\"-22.8\" font-family=\"Helvetica,sans-Serif\" font-size=\"14.00\">value = [0, 0, 0, 4, 7]</text>\n",
       "<text text-anchor=\"start\" x=\"208\" y=\"-7.8\" font-family=\"Helvetica,sans-Serif\" font-size=\"14.00\">class = a</text>\n",
       "</g>\n",
       "<!-- 4&#45;&gt;6 -->\n",
       "<g id=\"edge6\" class=\"edge\">\n",
       "<title>4&#45;&gt;6</title>\n",
       "<path fill=\"none\" stroke=\"black\" d=\"M184.66,-103.73C191.27,-94.79 198.28,-85.32 204.91,-76.36\"/>\n",
       "<polygon fill=\"black\" stroke=\"black\" points=\"207.73,-78.42 210.87,-68.3 202.11,-74.26 207.73,-78.42\"/>\n",
       "</g>\n",
       "<!-- 9 -->\n",
       "<g id=\"node10\" class=\"node\">\n",
       "<title>9</title>\n",
       "<path fill=\"#7be539\" stroke=\"black\" d=\"M535.5,-179.5C535.5,-179.5 419.5,-179.5 419.5,-179.5 413.5,-179.5 407.5,-173.5 407.5,-167.5 407.5,-167.5 407.5,-123.5 407.5,-123.5 407.5,-117.5 413.5,-111.5 419.5,-111.5 419.5,-111.5 535.5,-111.5 535.5,-111.5 541.5,-111.5 547.5,-117.5 547.5,-123.5 547.5,-123.5 547.5,-167.5 547.5,-167.5 547.5,-173.5 541.5,-179.5 535.5,-179.5\"/>\n",
       "<text text-anchor=\"start\" x=\"437.5\" y=\"-164.3\" font-family=\"Helvetica,sans-Serif\" font-size=\"14.00\">entropy = 0.0</text>\n",
       "<text text-anchor=\"start\" x=\"440\" y=\"-149.3\" font-family=\"Helvetica,sans-Serif\" font-size=\"14.00\">samples = 5</text>\n",
       "<text text-anchor=\"start\" x=\"415.5\" y=\"-134.3\" font-family=\"Helvetica,sans-Serif\" font-size=\"14.00\">value = [0, 5, 0, 0, 0]</text>\n",
       "<text text-anchor=\"start\" x=\"450\" y=\"-119.3\" font-family=\"Helvetica,sans-Serif\" font-size=\"14.00\">class = d</text>\n",
       "</g>\n",
       "<!-- 8&#45;&gt;9 -->\n",
       "<g id=\"edge9\" class=\"edge\">\n",
       "<title>8&#45;&gt;9</title>\n",
       "<path fill=\"none\" stroke=\"black\" d=\"M531.7,-222.91C523.72,-211.65 515.04,-199.42 507.02,-188.11\"/>\n",
       "<polygon fill=\"black\" stroke=\"black\" points=\"509.67,-185.8 501.03,-179.67 503.96,-189.85 509.67,-185.8\"/>\n",
       "</g>\n",
       "<!-- 10 -->\n",
       "<g id=\"node11\" class=\"node\">\n",
       "<title>10</title>\n",
       "<path fill=\"#9cec6a\" stroke=\"black\" d=\"M693.5,-179.5C693.5,-179.5 577.5,-179.5 577.5,-179.5 571.5,-179.5 565.5,-173.5 565.5,-167.5 565.5,-167.5 565.5,-123.5 565.5,-123.5 565.5,-117.5 571.5,-111.5 577.5,-111.5 577.5,-111.5 693.5,-111.5 693.5,-111.5 699.5,-111.5 705.5,-117.5 705.5,-123.5 705.5,-123.5 705.5,-167.5 705.5,-167.5 705.5,-173.5 699.5,-179.5 693.5,-179.5\"/>\n",
       "<text text-anchor=\"start\" x=\"588\" y=\"-164.3\" font-family=\"Helvetica,sans-Serif\" font-size=\"14.00\">entropy = 0.722</text>\n",
       "<text text-anchor=\"start\" x=\"598\" y=\"-149.3\" font-family=\"Helvetica,sans-Serif\" font-size=\"14.00\">samples = 5</text>\n",
       "<text text-anchor=\"start\" x=\"573.5\" y=\"-134.3\" font-family=\"Helvetica,sans-Serif\" font-size=\"14.00\">value = [1, 4, 0, 0, 0]</text>\n",
       "<text text-anchor=\"start\" x=\"608\" y=\"-119.3\" font-family=\"Helvetica,sans-Serif\" font-size=\"14.00\">class = d</text>\n",
       "</g>\n",
       "<!-- 8&#45;&gt;10 -->\n",
       "<g id=\"edge10\" class=\"edge\">\n",
       "<title>8&#45;&gt;10</title>\n",
       "<path fill=\"none\" stroke=\"black\" d=\"M586.52,-222.91C593.74,-211.65 601.58,-199.42 608.83,-188.11\"/>\n",
       "<polygon fill=\"black\" stroke=\"black\" points=\"611.79,-189.97 614.24,-179.67 605.9,-186.2 611.79,-189.97\"/>\n",
       "</g>\n",
       "<!-- 12 -->\n",
       "<g id=\"node13\" class=\"node\">\n",
       "<title>12</title>\n",
       "<path fill=\"#aeef85\" stroke=\"black\" d=\"M1018,-306C1018,-306 895,-306 895,-306 889,-306 883,-300 883,-294 883,-294 883,-235 883,-235 883,-229 889,-223 895,-223 895,-223 1018,-223 1018,-223 1024,-223 1030,-229 1030,-235 1030,-235 1030,-294 1030,-294 1030,-300 1024,-306 1018,-306\"/>\n",
       "<text text-anchor=\"start\" x=\"906.5\" y=\"-290.8\" font-family=\"Helvetica,sans-Serif\" font-size=\"14.00\">Energy ≤ 348.45</text>\n",
       "<text text-anchor=\"start\" x=\"909\" y=\"-275.8\" font-family=\"Helvetica,sans-Serif\" font-size=\"14.00\">entropy = 0.852</text>\n",
       "<text text-anchor=\"start\" x=\"915.5\" y=\"-260.8\" font-family=\"Helvetica,sans-Serif\" font-size=\"14.00\">samples = 18</text>\n",
       "<text text-anchor=\"start\" x=\"891\" y=\"-245.8\" font-family=\"Helvetica,sans-Serif\" font-size=\"14.00\">value = [5, 13, 0, 0, 0]</text>\n",
       "<text text-anchor=\"start\" x=\"929\" y=\"-230.8\" font-family=\"Helvetica,sans-Serif\" font-size=\"14.00\">class = d</text>\n",
       "</g>\n",
       "<!-- 11&#45;&gt;12 -->\n",
       "<g id=\"edge12\" class=\"edge\">\n",
       "<title>11&#45;&gt;12</title>\n",
       "<path fill=\"none\" stroke=\"black\" d=\"M1000.91,-341.91C995.84,-333.2 990.44,-323.9 985.21,-314.89\"/>\n",
       "<polygon fill=\"black\" stroke=\"black\" points=\"988.1,-312.91 980.05,-306.02 982.05,-316.43 988.1,-312.91\"/>\n",
       "</g>\n",
       "<!-- 15 -->\n",
       "<g id=\"node16\" class=\"node\">\n",
       "<title>15</title>\n",
       "<path fill=\"#84e747\" stroke=\"black\" d=\"M1183,-306C1183,-306 1060,-306 1060,-306 1054,-306 1048,-300 1048,-294 1048,-294 1048,-235 1048,-235 1048,-229 1054,-223 1060,-223 1060,-223 1183,-223 1183,-223 1189,-223 1195,-229 1195,-235 1195,-235 1195,-294 1195,-294 1195,-300 1189,-306 1183,-306\"/>\n",
       "<text text-anchor=\"start\" x=\"1085.5\" y=\"-290.8\" font-family=\"Helvetica,sans-Serif\" font-size=\"14.00\">Fiber ≤ 11.5</text>\n",
       "<text text-anchor=\"start\" x=\"1074\" y=\"-275.8\" font-family=\"Helvetica,sans-Serif\" font-size=\"14.00\">entropy = 0.345</text>\n",
       "<text text-anchor=\"start\" x=\"1080.5\" y=\"-260.8\" font-family=\"Helvetica,sans-Serif\" font-size=\"14.00\">samples = 31</text>\n",
       "<text text-anchor=\"start\" x=\"1056\" y=\"-245.8\" font-family=\"Helvetica,sans-Serif\" font-size=\"14.00\">value = [0, 29, 0, 0, 2]</text>\n",
       "<text text-anchor=\"start\" x=\"1094\" y=\"-230.8\" font-family=\"Helvetica,sans-Serif\" font-size=\"14.00\">class = d</text>\n",
       "</g>\n",
       "<!-- 11&#45;&gt;15 -->\n",
       "<g id=\"edge15\" class=\"edge\">\n",
       "<title>11&#45;&gt;15</title>\n",
       "<path fill=\"none\" stroke=\"black\" d=\"M1058.15,-341.91C1065.68,-332.83 1073.73,-323.12 1081.48,-313.77\"/>\n",
       "<polygon fill=\"black\" stroke=\"black\" points=\"1084.22,-315.95 1087.91,-306.02 1078.83,-311.49 1084.22,-315.95\"/>\n",
       "</g>\n",
       "<!-- 13 -->\n",
       "<g id=\"node14\" class=\"node\">\n",
       "<title>13</title>\n",
       "<path fill=\"#7be539\" stroke=\"black\" d=\"M859,-179.5C859,-179.5 736,-179.5 736,-179.5 730,-179.5 724,-173.5 724,-167.5 724,-167.5 724,-123.5 724,-123.5 724,-117.5 730,-111.5 736,-111.5 736,-111.5 859,-111.5 859,-111.5 865,-111.5 871,-117.5 871,-123.5 871,-123.5 871,-167.5 871,-167.5 871,-173.5 865,-179.5 859,-179.5\"/>\n",
       "<text text-anchor=\"start\" x=\"757.5\" y=\"-164.3\" font-family=\"Helvetica,sans-Serif\" font-size=\"14.00\">entropy = 0.0</text>\n",
       "<text text-anchor=\"start\" x=\"756.5\" y=\"-149.3\" font-family=\"Helvetica,sans-Serif\" font-size=\"14.00\">samples = 10</text>\n",
       "<text text-anchor=\"start\" x=\"732\" y=\"-134.3\" font-family=\"Helvetica,sans-Serif\" font-size=\"14.00\">value = [0, 10, 0, 0, 0]</text>\n",
       "<text text-anchor=\"start\" x=\"770\" y=\"-119.3\" font-family=\"Helvetica,sans-Serif\" font-size=\"14.00\">class = d</text>\n",
       "</g>\n",
       "<!-- 12&#45;&gt;13 -->\n",
       "<g id=\"edge13\" class=\"edge\">\n",
       "<title>12&#45;&gt;13</title>\n",
       "<path fill=\"none\" stroke=\"black\" d=\"M901.34,-222.91C884.99,-210.88 867.13,-197.73 850.9,-185.79\"/>\n",
       "<polygon fill=\"black\" stroke=\"black\" points=\"852.7,-182.77 842.57,-179.67 848.55,-188.41 852.7,-182.77\"/>\n",
       "</g>\n",
       "<!-- 14 -->\n",
       "<g id=\"node15\" class=\"node\">\n",
       "<title>14</title>\n",
       "<path fill=\"#f5cdb0\" stroke=\"black\" d=\"M1017.5,-179.5C1017.5,-179.5 901.5,-179.5 901.5,-179.5 895.5,-179.5 889.5,-173.5 889.5,-167.5 889.5,-167.5 889.5,-123.5 889.5,-123.5 889.5,-117.5 895.5,-111.5 901.5,-111.5 901.5,-111.5 1017.5,-111.5 1017.5,-111.5 1023.5,-111.5 1029.5,-117.5 1029.5,-123.5 1029.5,-123.5 1029.5,-167.5 1029.5,-167.5 1029.5,-173.5 1023.5,-179.5 1017.5,-179.5\"/>\n",
       "<text text-anchor=\"start\" x=\"912\" y=\"-164.3\" font-family=\"Helvetica,sans-Serif\" font-size=\"14.00\">entropy = 0.954</text>\n",
       "<text text-anchor=\"start\" x=\"922\" y=\"-149.3\" font-family=\"Helvetica,sans-Serif\" font-size=\"14.00\">samples = 8</text>\n",
       "<text text-anchor=\"start\" x=\"897.5\" y=\"-134.3\" font-family=\"Helvetica,sans-Serif\" font-size=\"14.00\">value = [5, 3, 0, 0, 0]</text>\n",
       "<text text-anchor=\"start\" x=\"932.5\" y=\"-119.3\" font-family=\"Helvetica,sans-Serif\" font-size=\"14.00\">class = c</text>\n",
       "</g>\n",
       "<!-- 12&#45;&gt;14 -->\n",
       "<g id=\"edge14\" class=\"edge\">\n",
       "<title>12&#45;&gt;14</title>\n",
       "<path fill=\"none\" stroke=\"black\" d=\"M957.54,-222.91C957.82,-212.2 958.11,-200.62 958.39,-189.78\"/>\n",
       "<polygon fill=\"black\" stroke=\"black\" points=\"961.89,-189.75 958.65,-179.67 954.89,-189.57 961.89,-189.75\"/>\n",
       "</g>\n",
       "<!-- 16 -->\n",
       "<g id=\"node17\" class=\"node\">\n",
       "<title>16</title>\n",
       "<path fill=\"#7be539\" stroke=\"black\" d=\"M1183,-179.5C1183,-179.5 1060,-179.5 1060,-179.5 1054,-179.5 1048,-173.5 1048,-167.5 1048,-167.5 1048,-123.5 1048,-123.5 1048,-117.5 1054,-111.5 1060,-111.5 1060,-111.5 1183,-111.5 1183,-111.5 1189,-111.5 1195,-117.5 1195,-123.5 1195,-123.5 1195,-167.5 1195,-167.5 1195,-173.5 1189,-179.5 1183,-179.5\"/>\n",
       "<text text-anchor=\"start\" x=\"1081.5\" y=\"-164.3\" font-family=\"Helvetica,sans-Serif\" font-size=\"14.00\">entropy = 0.0</text>\n",
       "<text text-anchor=\"start\" x=\"1080.5\" y=\"-149.3\" font-family=\"Helvetica,sans-Serif\" font-size=\"14.00\">samples = 26</text>\n",
       "<text text-anchor=\"start\" x=\"1056\" y=\"-134.3\" font-family=\"Helvetica,sans-Serif\" font-size=\"14.00\">value = [0, 26, 0, 0, 0]</text>\n",
       "<text text-anchor=\"start\" x=\"1094\" y=\"-119.3\" font-family=\"Helvetica,sans-Serif\" font-size=\"14.00\">class = d</text>\n",
       "</g>\n",
       "<!-- 15&#45;&gt;16 -->\n",
       "<g id=\"edge16\" class=\"edge\">\n",
       "<title>15&#45;&gt;16</title>\n",
       "<path fill=\"none\" stroke=\"black\" d=\"M1121.5,-222.91C1121.5,-212.2 1121.5,-200.62 1121.5,-189.78\"/>\n",
       "<polygon fill=\"black\" stroke=\"black\" points=\"1125,-189.67 1121.5,-179.67 1118,-189.67 1125,-189.67\"/>\n",
       "</g>\n",
       "<!-- 17 -->\n",
       "<g id=\"node18\" class=\"node\">\n",
       "<title>17</title>\n",
       "<path fill=\"#d3f6bd\" stroke=\"black\" d=\"M1341.5,-179.5C1341.5,-179.5 1225.5,-179.5 1225.5,-179.5 1219.5,-179.5 1213.5,-173.5 1213.5,-167.5 1213.5,-167.5 1213.5,-123.5 1213.5,-123.5 1213.5,-117.5 1219.5,-111.5 1225.5,-111.5 1225.5,-111.5 1341.5,-111.5 1341.5,-111.5 1347.5,-111.5 1353.5,-117.5 1353.5,-123.5 1353.5,-123.5 1353.5,-167.5 1353.5,-167.5 1353.5,-173.5 1347.5,-179.5 1341.5,-179.5\"/>\n",
       "<text text-anchor=\"start\" x=\"1236\" y=\"-164.3\" font-family=\"Helvetica,sans-Serif\" font-size=\"14.00\">entropy = 0.971</text>\n",
       "<text text-anchor=\"start\" x=\"1246\" y=\"-149.3\" font-family=\"Helvetica,sans-Serif\" font-size=\"14.00\">samples = 5</text>\n",
       "<text text-anchor=\"start\" x=\"1221.5\" y=\"-134.3\" font-family=\"Helvetica,sans-Serif\" font-size=\"14.00\">value = [0, 3, 0, 0, 2]</text>\n",
       "<text text-anchor=\"start\" x=\"1256\" y=\"-119.3\" font-family=\"Helvetica,sans-Serif\" font-size=\"14.00\">class = d</text>\n",
       "</g>\n",
       "<!-- 15&#45;&gt;17 -->\n",
       "<g id=\"edge17\" class=\"edge\">\n",
       "<title>15&#45;&gt;17</title>\n",
       "<path fill=\"none\" stroke=\"black\" d=\"M1177.71,-222.91C1194.36,-210.88 1212.56,-197.73 1229.1,-185.79\"/>\n",
       "<polygon fill=\"black\" stroke=\"black\" points=\"1231.52,-188.36 1237.58,-179.67 1227.42,-182.68 1231.52,-188.36\"/>\n",
       "</g>\n",
       "<!-- 19 -->\n",
       "<g id=\"node20\" class=\"node\">\n",
       "<title>19</title>\n",
       "<path fill=\"#e99559\" stroke=\"black\" d=\"M1426,-425C1426,-425 1303,-425 1303,-425 1297,-425 1291,-419 1291,-413 1291,-413 1291,-354 1291,-354 1291,-348 1297,-342 1303,-342 1303,-342 1426,-342 1426,-342 1432,-342 1438,-348 1438,-354 1438,-354 1438,-413 1438,-413 1438,-419 1432,-425 1426,-425\"/>\n",
       "<text text-anchor=\"start\" x=\"1328\" y=\"-409.8\" font-family=\"Helvetica,sans-Serif\" font-size=\"14.00\">Fiber ≤ 4.15</text>\n",
       "<text text-anchor=\"start\" x=\"1317\" y=\"-394.8\" font-family=\"Helvetica,sans-Serif\" font-size=\"14.00\">entropy = 0.708</text>\n",
       "<text text-anchor=\"start\" x=\"1323.5\" y=\"-379.8\" font-family=\"Helvetica,sans-Serif\" font-size=\"14.00\">samples = 28</text>\n",
       "<text text-anchor=\"start\" x=\"1299\" y=\"-364.8\" font-family=\"Helvetica,sans-Serif\" font-size=\"14.00\">value = [24, 1, 3, 0, 0]</text>\n",
       "<text text-anchor=\"start\" x=\"1337.5\" y=\"-349.8\" font-family=\"Helvetica,sans-Serif\" font-size=\"14.00\">class = c</text>\n",
       "</g>\n",
       "<!-- 18&#45;&gt;19 -->\n",
       "<g id=\"edge19\" class=\"edge\">\n",
       "<title>18&#45;&gt;19</title>\n",
       "<path fill=\"none\" stroke=\"black\" d=\"M1364.5,-460.91C1364.5,-452.65 1364.5,-443.86 1364.5,-435.3\"/>\n",
       "<polygon fill=\"black\" stroke=\"black\" points=\"1368,-435.02 1364.5,-425.02 1361,-435.02 1368,-435.02\"/>\n",
       "</g>\n",
       "<!-- 24 -->\n",
       "<g id=\"node25\" class=\"node\">\n",
       "<title>24</title>\n",
       "<path fill=\"#52e8cc\" stroke=\"black\" d=\"M1672,-425C1672,-425 1549,-425 1549,-425 1543,-425 1537,-419 1537,-413 1537,-413 1537,-354 1537,-354 1537,-348 1543,-342 1549,-342 1549,-342 1672,-342 1672,-342 1678,-342 1684,-348 1684,-354 1684,-354 1684,-413 1684,-413 1684,-419 1678,-425 1672,-425\"/>\n",
       "<text text-anchor=\"start\" x=\"1574\" y=\"-409.8\" font-family=\"Helvetica,sans-Serif\" font-size=\"14.00\">Fiber ≤ 7.95</text>\n",
       "<text text-anchor=\"start\" x=\"1563\" y=\"-394.8\" font-family=\"Helvetica,sans-Serif\" font-size=\"14.00\">entropy = 0.503</text>\n",
       "<text text-anchor=\"start\" x=\"1569.5\" y=\"-379.8\" font-family=\"Helvetica,sans-Serif\" font-size=\"14.00\">samples = 27</text>\n",
       "<text text-anchor=\"start\" x=\"1545\" y=\"-364.8\" font-family=\"Helvetica,sans-Serif\" font-size=\"14.00\">value = [3, 0, 24, 0, 0]</text>\n",
       "<text text-anchor=\"start\" x=\"1583\" y=\"-349.8\" font-family=\"Helvetica,sans-Serif\" font-size=\"14.00\">class = b</text>\n",
       "</g>\n",
       "<!-- 18&#45;&gt;24 -->\n",
       "<g id=\"edge24\" class=\"edge\">\n",
       "<title>18&#45;&gt;24</title>\n",
       "<path fill=\"none\" stroke=\"black\" d=\"M1442.34,-464.48C1469.53,-451.55 1500.14,-436.99 1527.71,-423.87\"/>\n",
       "<polygon fill=\"black\" stroke=\"black\" points=\"1529.41,-426.94 1536.94,-419.48 1526.41,-420.62 1529.41,-426.94\"/>\n",
       "</g>\n",
       "<!-- 20 -->\n",
       "<g id=\"node21\" class=\"node\">\n",
       "<title>20</title>\n",
       "<path fill=\"#f5cdb0\" stroke=\"black\" d=\"M1341.5,-298.5C1341.5,-298.5 1225.5,-298.5 1225.5,-298.5 1219.5,-298.5 1213.5,-292.5 1213.5,-286.5 1213.5,-286.5 1213.5,-242.5 1213.5,-242.5 1213.5,-236.5 1219.5,-230.5 1225.5,-230.5 1225.5,-230.5 1341.5,-230.5 1341.5,-230.5 1347.5,-230.5 1353.5,-236.5 1353.5,-242.5 1353.5,-242.5 1353.5,-286.5 1353.5,-286.5 1353.5,-292.5 1347.5,-298.5 1341.5,-298.5\"/>\n",
       "<text text-anchor=\"start\" x=\"1236\" y=\"-283.3\" font-family=\"Helvetica,sans-Serif\" font-size=\"14.00\">entropy = 0.954</text>\n",
       "<text text-anchor=\"start\" x=\"1246\" y=\"-268.3\" font-family=\"Helvetica,sans-Serif\" font-size=\"14.00\">samples = 8</text>\n",
       "<text text-anchor=\"start\" x=\"1221.5\" y=\"-253.3\" font-family=\"Helvetica,sans-Serif\" font-size=\"14.00\">value = [5, 0, 3, 0, 0]</text>\n",
       "<text text-anchor=\"start\" x=\"1256.5\" y=\"-238.3\" font-family=\"Helvetica,sans-Serif\" font-size=\"14.00\">class = c</text>\n",
       "</g>\n",
       "<!-- 19&#45;&gt;20 -->\n",
       "<g id=\"edge20\" class=\"edge\">\n",
       "<title>19&#45;&gt;20</title>\n",
       "<path fill=\"none\" stroke=\"black\" d=\"M1336.4,-341.91C1328.61,-330.65 1320.14,-318.42 1312.3,-307.11\"/>\n",
       "<polygon fill=\"black\" stroke=\"black\" points=\"1315.03,-304.9 1306.46,-298.67 1309.28,-308.88 1315.03,-304.9\"/>\n",
       "</g>\n",
       "<!-- 21 -->\n",
       "<g id=\"node22\" class=\"node\">\n",
       "<title>21</title>\n",
       "<path fill=\"#e68843\" stroke=\"black\" d=\"M1507,-306C1507,-306 1384,-306 1384,-306 1378,-306 1372,-300 1372,-294 1372,-294 1372,-235 1372,-235 1372,-229 1378,-223 1384,-223 1384,-223 1507,-223 1507,-223 1513,-223 1519,-229 1519,-235 1519,-235 1519,-294 1519,-294 1519,-300 1513,-306 1507,-306\"/>\n",
       "<text text-anchor=\"start\" x=\"1395.5\" y=\"-290.8\" font-family=\"Helvetica,sans-Serif\" font-size=\"14.00\">Sugars ≤ 21.895</text>\n",
       "<text text-anchor=\"start\" x=\"1398\" y=\"-275.8\" font-family=\"Helvetica,sans-Serif\" font-size=\"14.00\">entropy = 0.286</text>\n",
       "<text text-anchor=\"start\" x=\"1404.5\" y=\"-260.8\" font-family=\"Helvetica,sans-Serif\" font-size=\"14.00\">samples = 20</text>\n",
       "<text text-anchor=\"start\" x=\"1380\" y=\"-245.8\" font-family=\"Helvetica,sans-Serif\" font-size=\"14.00\">value = [19, 1, 0, 0, 0]</text>\n",
       "<text text-anchor=\"start\" x=\"1418.5\" y=\"-230.8\" font-family=\"Helvetica,sans-Serif\" font-size=\"14.00\">class = c</text>\n",
       "</g>\n",
       "<!-- 19&#45;&gt;21 -->\n",
       "<g id=\"edge21\" class=\"edge\">\n",
       "<title>19&#45;&gt;21</title>\n",
       "<path fill=\"none\" stroke=\"black\" d=\"M1392.6,-341.91C1398.76,-333.01 1405.34,-323.51 1411.69,-314.33\"/>\n",
       "<polygon fill=\"black\" stroke=\"black\" points=\"1414.63,-316.24 1417.45,-306.02 1408.88,-312.25 1414.63,-316.24\"/>\n",
       "</g>\n",
       "<!-- 22 -->\n",
       "<g id=\"node23\" class=\"node\">\n",
       "<title>22</title>\n",
       "<path fill=\"#eca06a\" stroke=\"black\" d=\"M1501.5,-179.5C1501.5,-179.5 1385.5,-179.5 1385.5,-179.5 1379.5,-179.5 1373.5,-173.5 1373.5,-167.5 1373.5,-167.5 1373.5,-123.5 1373.5,-123.5 1373.5,-117.5 1379.5,-111.5 1385.5,-111.5 1385.5,-111.5 1501.5,-111.5 1501.5,-111.5 1507.5,-111.5 1513.5,-117.5 1513.5,-123.5 1513.5,-123.5 1513.5,-167.5 1513.5,-167.5 1513.5,-173.5 1507.5,-179.5 1501.5,-179.5\"/>\n",
       "<text text-anchor=\"start\" x=\"1396\" y=\"-164.3\" font-family=\"Helvetica,sans-Serif\" font-size=\"14.00\">entropy = 0.722</text>\n",
       "<text text-anchor=\"start\" x=\"1406\" y=\"-149.3\" font-family=\"Helvetica,sans-Serif\" font-size=\"14.00\">samples = 5</text>\n",
       "<text text-anchor=\"start\" x=\"1381.5\" y=\"-134.3\" font-family=\"Helvetica,sans-Serif\" font-size=\"14.00\">value = [4, 1, 0, 0, 0]</text>\n",
       "<text text-anchor=\"start\" x=\"1416.5\" y=\"-119.3\" font-family=\"Helvetica,sans-Serif\" font-size=\"14.00\">class = c</text>\n",
       "</g>\n",
       "<!-- 21&#45;&gt;22 -->\n",
       "<g id=\"edge22\" class=\"edge\">\n",
       "<title>21&#45;&gt;22</title>\n",
       "<path fill=\"none\" stroke=\"black\" d=\"M1444.81,-222.91C1444.62,-212.2 1444.43,-200.62 1444.24,-189.78\"/>\n",
       "<polygon fill=\"black\" stroke=\"black\" points=\"1447.74,-189.61 1444.07,-179.67 1440.74,-189.73 1447.74,-189.61\"/>\n",
       "</g>\n",
       "<!-- 23 -->\n",
       "<g id=\"node24\" class=\"node\">\n",
       "<title>23</title>\n",
       "<path fill=\"#e58139\" stroke=\"black\" d=\"M1667,-179.5C1667,-179.5 1544,-179.5 1544,-179.5 1538,-179.5 1532,-173.5 1532,-167.5 1532,-167.5 1532,-123.5 1532,-123.5 1532,-117.5 1538,-111.5 1544,-111.5 1544,-111.5 1667,-111.5 1667,-111.5 1673,-111.5 1679,-117.5 1679,-123.5 1679,-123.5 1679,-167.5 1679,-167.5 1679,-173.5 1673,-179.5 1667,-179.5\"/>\n",
       "<text text-anchor=\"start\" x=\"1565.5\" y=\"-164.3\" font-family=\"Helvetica,sans-Serif\" font-size=\"14.00\">entropy = 0.0</text>\n",
       "<text text-anchor=\"start\" x=\"1564.5\" y=\"-149.3\" font-family=\"Helvetica,sans-Serif\" font-size=\"14.00\">samples = 15</text>\n",
       "<text text-anchor=\"start\" x=\"1540\" y=\"-134.3\" font-family=\"Helvetica,sans-Serif\" font-size=\"14.00\">value = [15, 0, 0, 0, 0]</text>\n",
       "<text text-anchor=\"start\" x=\"1578.5\" y=\"-119.3\" font-family=\"Helvetica,sans-Serif\" font-size=\"14.00\">class = c</text>\n",
       "</g>\n",
       "<!-- 21&#45;&gt;23 -->\n",
       "<g id=\"edge23\" class=\"edge\">\n",
       "<title>21&#45;&gt;23</title>\n",
       "<path fill=\"none\" stroke=\"black\" d=\"M1501.01,-222.91C1517.46,-210.88 1535.44,-197.73 1551.77,-185.79\"/>\n",
       "<polygon fill=\"black\" stroke=\"black\" points=\"1554.14,-188.39 1560.14,-179.67 1550.01,-182.74 1554.14,-188.39\"/>\n",
       "</g>\n",
       "<!-- 25 -->\n",
       "<g id=\"node26\" class=\"node\">\n",
       "<title>25</title>\n",
       "<path fill=\"#39e5c5\" stroke=\"black\" d=\"M1672,-298.5C1672,-298.5 1549,-298.5 1549,-298.5 1543,-298.5 1537,-292.5 1537,-286.5 1537,-286.5 1537,-242.5 1537,-242.5 1537,-236.5 1543,-230.5 1549,-230.5 1549,-230.5 1672,-230.5 1672,-230.5 1678,-230.5 1684,-236.5 1684,-242.5 1684,-242.5 1684,-286.5 1684,-286.5 1684,-292.5 1678,-298.5 1672,-298.5\"/>\n",
       "<text text-anchor=\"start\" x=\"1570.5\" y=\"-283.3\" font-family=\"Helvetica,sans-Serif\" font-size=\"14.00\">entropy = 0.0</text>\n",
       "<text text-anchor=\"start\" x=\"1569.5\" y=\"-268.3\" font-family=\"Helvetica,sans-Serif\" font-size=\"14.00\">samples = 22</text>\n",
       "<text text-anchor=\"start\" x=\"1545\" y=\"-253.3\" font-family=\"Helvetica,sans-Serif\" font-size=\"14.00\">value = [0, 0, 22, 0, 0]</text>\n",
       "<text text-anchor=\"start\" x=\"1583\" y=\"-238.3\" font-family=\"Helvetica,sans-Serif\" font-size=\"14.00\">class = b</text>\n",
       "</g>\n",
       "<!-- 24&#45;&gt;25 -->\n",
       "<g id=\"edge25\" class=\"edge\">\n",
       "<title>24&#45;&gt;25</title>\n",
       "<path fill=\"none\" stroke=\"black\" d=\"M1610.5,-341.91C1610.5,-331.2 1610.5,-319.62 1610.5,-308.78\"/>\n",
       "<polygon fill=\"black\" stroke=\"black\" points=\"1614,-308.67 1610.5,-298.67 1607,-308.67 1614,-308.67\"/>\n",
       "</g>\n",
       "<!-- 26 -->\n",
       "<g id=\"node27\" class=\"node\">\n",
       "<title>26</title>\n",
       "<path fill=\"#f6d5bd\" stroke=\"black\" d=\"M1830.5,-298.5C1830.5,-298.5 1714.5,-298.5 1714.5,-298.5 1708.5,-298.5 1702.5,-292.5 1702.5,-286.5 1702.5,-286.5 1702.5,-242.5 1702.5,-242.5 1702.5,-236.5 1708.5,-230.5 1714.5,-230.5 1714.5,-230.5 1830.5,-230.5 1830.5,-230.5 1836.5,-230.5 1842.5,-236.5 1842.5,-242.5 1842.5,-242.5 1842.5,-286.5 1842.5,-286.5 1842.5,-292.5 1836.5,-298.5 1830.5,-298.5\"/>\n",
       "<text text-anchor=\"start\" x=\"1725\" y=\"-283.3\" font-family=\"Helvetica,sans-Serif\" font-size=\"14.00\">entropy = 0.971</text>\n",
       "<text text-anchor=\"start\" x=\"1735\" y=\"-268.3\" font-family=\"Helvetica,sans-Serif\" font-size=\"14.00\">samples = 5</text>\n",
       "<text text-anchor=\"start\" x=\"1710.5\" y=\"-253.3\" font-family=\"Helvetica,sans-Serif\" font-size=\"14.00\">value = [3, 0, 2, 0, 0]</text>\n",
       "<text text-anchor=\"start\" x=\"1745.5\" y=\"-238.3\" font-family=\"Helvetica,sans-Serif\" font-size=\"14.00\">class = c</text>\n",
       "</g>\n",
       "<!-- 24&#45;&gt;26 -->\n",
       "<g id=\"edge26\" class=\"edge\">\n",
       "<title>24&#45;&gt;26</title>\n",
       "<path fill=\"none\" stroke=\"black\" d=\"M1666.71,-341.91C1683.36,-329.88 1701.56,-316.73 1718.1,-304.79\"/>\n",
       "<polygon fill=\"black\" stroke=\"black\" points=\"1720.52,-307.36 1726.58,-298.67 1716.42,-301.68 1720.52,-307.36\"/>\n",
       "</g>\n",
       "</g>\n",
       "</svg>\n"
      ],
      "text/plain": [
       "<graphviz.sources.Source at 0x289aa6f9040>"
      ]
     },
     "execution_count": 286,
     "metadata": {},
     "output_type": "execute_result"
    }
   ],
   "source": [
    "import graphviz \n",
    "dot_data = tree.export_graphviz(clf_gini, out_file=None, \n",
    "                              feature_names=X_test.columns,  \n",
    "                              class_names=['c','d','b','e','a'],  \n",
    "                              filled=True, rounded=True,  \n",
    "                              special_characters=True)\n",
    "\n",
    "graph = graphviz.Source(dot_data) \n",
    "\n",
    "graph "
   ]
  },
  {
   "cell_type": "code",
   "execution_count": null,
   "id": "22a8d4bd",
   "metadata": {},
   "outputs": [],
   "source": []
  },
  {
   "cell_type": "code",
   "execution_count": 287,
   "id": "e71c2c1b",
   "metadata": {},
   "outputs": [
    {
     "name": "stdout",
     "output_type": "stream",
     "text": [
      "Energy 0.027303956737721593\n",
      "Saturated_fatty_acids 0.5879670523505743\n",
      "Sugars 0.16479804090676345\n",
      "Fiber 0.10633318902885645\n",
      "Proteins 0.022115847397667057\n",
      "Salt 0.09148191357841719\n",
      "Fruit/vegetable 0.0\n"
     ]
    },
    {
     "data": {
      "image/png": "[encoded data removed]",
      "text/plain": [
       "<Figure size 640x480 with 1 Axes>"
      ]
     },
     "metadata": {},
     "output_type": "display_data"
    }
   ],
   "source": [
    "from matplotlib import pyplot\n",
    "importance = clf_gini.feature_importances_\n",
    "for i,v in zip(X_train.columns,importance):\n",
    "    print(i,v)\n",
    "# plot feature importance\n",
    "pyplot.bar([x for x in range(len(importance))], importance)\n",
    "pyplot.show()"
   ]
  },
  {
   "cell_type": "code",
   "execution_count": 288,
   "id": "0fb0a690",
   "metadata": {},
   "outputs": [
    {
     "name": "stdout",
     "output_type": "stream",
     "text": [
      "Energy 0.027303956737721593\n",
      "Saturated_fatty_acids 0.5879670523505743\n",
      "Sugars 0.16479804090676345\n",
      "Fiber 0.10633318902885645\n",
      "Proteins 0.022115847397667057\n",
      "Salt 0.09148191357841719\n",
      "Fruit/vegetable 0.0\n"
     ]
    }
   ],
   "source": [
    "for i,y in zip(X_train.columns,importance):\n",
    "    print (i,y)"
   ]
  },
  {
   "cell_type": "markdown",
   "id": "c61be317",
   "metadata": {},
   "source": [
    "### Confusion matrix"
   ]
  },
  {
   "cell_type": "code",
   "execution_count": 289,
   "id": "0671fcfb",
   "metadata": {},
   "outputs": [
    {
     "name": "stdout",
     "output_type": "stream",
     "text": [
      "Confusion matrix\n",
      "\n",
      " [[12  3  1  0  0]\n",
      " [ 3 25  0  1  0]\n",
      " [ 4  0  9  0  0]\n",
      " [ 0  4  0  9  2]\n",
      " [ 0  1  0  1  4]]\n"
     ]
    }
   ],
   "source": [
    "# Print the Confusion Matrix and slice it into four pieces\n",
    "\n",
    "from sklearn.metrics import confusion_matrix\n",
    "\n",
    "cm = confusion_matrix(y_test, y_pred_gini)\n",
    "\n",
    "print('Confusion matrix\\n\\n', cm)"
   ]
  },
  {
   "cell_type": "code",
   "execution_count": 291,
   "id": "0f56eca7",
   "metadata": {
    "scrolled": true
   },
   "outputs": [
    {
     "name": "stdout",
     "output_type": "stream",
     "text": [
      "              precision    recall  f1-score   support\n",
      "\n",
      "           1       0.63      0.75      0.69        16\n",
      "           2       0.76      0.86      0.81        29\n",
      "           3       0.90      0.69      0.78        13\n",
      "           4       0.82      0.60      0.69        15\n",
      "           5       0.67      0.67      0.67         6\n",
      "\n",
      "    accuracy                           0.75        79\n",
      "   macro avg       0.75      0.71      0.73        79\n",
      "weighted avg       0.76      0.75      0.75        79\n",
      "\n"
     ]
    }
   ],
   "source": [
    "from sklearn.metrics import classification_report\n",
    "\n",
    "print(classification_report(y_test, y_pred_gini))"
   ]
  },
  {
   "cell_type": "code",
   "execution_count": null,
   "id": "8f22e7ae",
   "metadata": {},
   "outputs": [],
   "source": []
  },
  {
   "cell_type": "code",
   "execution_count": null,
   "id": "8378b2ec",
   "metadata": {},
   "outputs": [],
   "source": []
  },
  {
   "cell_type": "code",
   "execution_count": null,
   "id": "0c18a598",
   "metadata": {},
   "outputs": [],
   "source": []
  },
  {
   "cell_type": "code",
   "execution_count": null,
   "id": "46079601",
   "metadata": {},
   "outputs": [],
   "source": []
  },
  {
   "cell_type": "code",
   "execution_count": null,
   "id": "b81c4515",
   "metadata": {},
   "outputs": [],
   "source": []
  },
  {
   "cell_type": "code",
   "execution_count": null,
   "id": "1f6d4921",
   "metadata": {},
   "outputs": [],
   "source": []
  },
  {
   "cell_type": "code",
   "execution_count": null,
   "id": "1df71761",
   "metadata": {},
   "outputs": [],
   "source": []
  },
  {
   "cell_type": "code",
   "execution_count": null,
   "id": "14ba0597",
   "metadata": {},
   "outputs": [],
   "source": []
  },
  {
   "cell_type": "code",
   "execution_count": null,
   "id": "8d72812f",
   "metadata": {},
   "outputs": [],
   "source": []
  },
  {
   "cell_type": "code",
   "execution_count": null,
   "id": "f865816e",
   "metadata": {},
   "outputs": [],
   "source": []
  },
  {
   "cell_type": "code",
   "execution_count": null,
   "id": "a4b9a39a",
   "metadata": {},
   "outputs": [],
   "source": []
  },
  {
   "cell_type": "code",
   "execution_count": null,
   "id": "09f771f5",
   "metadata": {},
   "outputs": [],
   "source": []
  },
  {
   "cell_type": "code",
   "execution_count": null,
   "id": "37adc4c6",
   "metadata": {},
   "outputs": [],
   "source": []
  },
  {
   "cell_type": "code",
   "execution_count": null,
   "id": "2d8ca46c",
   "metadata": {},
   "outputs": [],
   "source": []
  },
  {
   "cell_type": "code",
   "execution_count": null,
   "id": "70ccce6e",
   "metadata": {},
   "outputs": [],
   "source": []
  },
  {
   "cell_type": "markdown",
   "id": "c28e4d85",
   "metadata": {},
   "source": [
    "### criteria entropy"
   ]
  },
  {
   "cell_type": "code",
   "execution_count": 259,
   "id": "9f66d341",
   "metadata": {},
   "outputs": [
    {
     "data": {
      "text/plain": [
       "DecisionTreeClassifier(criterion='entropy', max_depth=3, random_state=0)"
      ]
     },
     "execution_count": 259,
     "metadata": {},
     "output_type": "execute_result"
    }
   ],
   "source": [
    "# instantiate the DecisionTreeClassifier model with criterion entropy\n",
    "\n",
    "clf_en = DecisionTreeClassifier(criterion='entropy', max_depth=3, random_state=0)\n",
    "\n",
    "\n",
    "# fit the model\n",
    "clf_en.fit(X_train, y_train)"
   ]
  },
  {
   "cell_type": "code",
   "execution_count": 238,
   "id": "49d21da8",
   "metadata": {},
   "outputs": [],
   "source": [
    "y_pred_en = clf_en.predict(X_test)\n"
   ]
  },
  {
   "cell_type": "code",
   "execution_count": 239,
   "id": "e75b7ac1",
   "metadata": {},
   "outputs": [
    {
     "name": "stdout",
     "output_type": "stream",
     "text": [
      "Model accuracy score with criterion entropy: 0.7215\n"
     ]
    }
   ],
   "source": [
    "from sklearn.metrics import accuracy_score\n",
    "\n",
    "print('Model accuracy score with criterion entropy: {0:0.4f}'. format(accuracy_score(y_test, y_pred_en)))"
   ]
  },
  {
   "cell_type": "code",
   "execution_count": 240,
   "id": "ce678ebe",
   "metadata": {},
   "outputs": [
    {
     "data": {
      "text/plain": [
       "array([1, 1, 2, 2, 4, 2, 3, 4, 2, 3, 2, 3, 1, 4, 2, 2, 2, 1, 4, 4, 4, 4,\n",
       "       1, 4, 4, 4, 1, 3, 2, 1, 2, 1, 2, 4, 2, 2, 3, 2, 2, 4, 4, 3, 4, 2,\n",
       "       1, 1, 2, 4, 2, 1, 4, 3, 4, 4, 4, 3, 3, 1, 2, 2, 1, 2, 4, 2, 3, 2,\n",
       "       2, 3, 1, 1, 3, 4, 4, 4, 1, 4, 1, 2, 1, 3, 3, 2, 4, 2, 1, 2, 2, 2,\n",
       "       5, 3, 1, 2, 4, 2, 1, 4, 1, 2, 3, 1, 4, 3, 2, 2, 2, 2, 4, 2, 4, 3,\n",
       "       1, 4, 1, 3, 2, 4, 4, 2, 4, 2, 2, 2, 4, 2, 3, 1, 2, 4, 2, 4, 4, 1,\n",
       "       2, 2, 4, 1, 3, 2, 3, 5, 2, 1, 2, 1, 4, 3, 2, 2, 4, 2, 3, 4, 4, 2,\n",
       "       4, 4, 2, 1, 2, 4])"
      ]
     },
     "execution_count": 240,
     "metadata": {},
     "output_type": "execute_result"
    }
   ],
   "source": [
    "y_pred_train_en = clf_en.predict(X_train)\n",
    "\n",
    "y_pred_train_en"
   ]
  },
  {
   "cell_type": "code",
   "execution_count": 241,
   "id": "ece90907",
   "metadata": {},
   "outputs": [
    {
     "name": "stdout",
     "output_type": "stream",
     "text": [
      "Training-set accuracy score: 0.8375\n"
     ]
    }
   ],
   "source": [
    "print('Training-set accuracy score: {0:0.4f}'. format(accuracy_score(y_train, y_pred_train_en)))"
   ]
  },
  {
   "cell_type": "code",
   "execution_count": 242,
   "id": "ae07865a",
   "metadata": {},
   "outputs": [
    {
     "name": "stdout",
     "output_type": "stream",
     "text": [
      "Training set score: 0.8375\n",
      "Test set score: 0.7215\n"
     ]
    }
   ],
   "source": [
    "# print the scores on training and test set\n",
    "\n",
    "print('Training set score: {:.4f}'.format(clf_en.score(X_train, y_train)))\n",
    "\n",
    "print('Test set score: {:.4f}'.format(clf_en.score(X_test, y_test)))"
   ]
  },
  {
   "cell_type": "code",
   "execution_count": 243,
   "id": "6561c930",
   "metadata": {},
   "outputs": [
    {
     "data": {
      "text/plain": [
       "[Text(0.5, 0.875, 'X[1] <= 9.2\\nentropy = 2.18\\nsamples = 160\\nvalue = [33, 57, 27, 30, 13]'),\n",
       " Text(0.25, 0.625, 'X[1] <= 3.25\\nentropy = 1.609\\nsamples = 105\\nvalue = [6, 56, 0, 30, 13]'),\n",
       " Text(0.125, 0.375, 'X[5] <= 0.455\\nentropy = 1.547\\nsamples = 56\\nvalue = [1, 14, 0, 30, 11]'),\n",
       " Text(0.0625, 0.125, 'entropy = 1.244\\nsamples = 46\\nvalue = [0, 5, 0, 30, 11]'),\n",
       " Text(0.1875, 0.125, 'entropy = 0.469\\nsamples = 10\\nvalue = [1, 9, 0, 0, 0]'),\n",
       " Text(0.375, 0.375, 'X[2] <= 9.1\\nentropy = 0.715\\nsamples = 49\\nvalue = [5, 42, 0, 0, 2]'),\n",
       " Text(0.3125, 0.125, 'entropy = 0.0\\nsamples = 2\\nvalue = [0, 0, 0, 0, 2]'),\n",
       " Text(0.4375, 0.125, 'entropy = 0.489\\nsamples = 47\\nvalue = [5, 42, 0, 0, 0]'),\n",
       " Text(0.75, 0.625, 'X[2] <= 31.6\\nentropy = 1.113\\nsamples = 55\\nvalue = [27, 1, 27, 0, 0]'),\n",
       " Text(0.625, 0.375, 'X[3] <= 4.15\\nentropy = 0.708\\nsamples = 28\\nvalue = [24, 1, 3, 0, 0]'),\n",
       " Text(0.5625, 0.125, 'entropy = 0.954\\nsamples = 8\\nvalue = [5, 0, 3, 0, 0]'),\n",
       " Text(0.6875, 0.125, 'entropy = 0.286\\nsamples = 20\\nvalue = [19, 1, 0, 0, 0]'),\n",
       " Text(0.875, 0.375, 'X[3] <= 8.95\\nentropy = 0.503\\nsamples = 27\\nvalue = [3, 0, 24, 0, 0]'),\n",
       " Text(0.8125, 0.125, 'entropy = 0.0\\nsamples = 24\\nvalue = [0, 0, 24, 0, 0]'),\n",
       " Text(0.9375, 0.125, 'entropy = 0.0\\nsamples = 3\\nvalue = [3, 0, 0, 0, 0]')]"
      ]
     },
     "execution_count": 243,
     "metadata": {},
     "output_type": "execute_result"
    },
    {
     "data": {
      "image/png": "[encoded data removed]",
      "text/plain": [
       "<Figure size 1200x800 with 1 Axes>"
      ]
     },
     "metadata": {},
     "output_type": "display_data"
    }
   ],
   "source": [
    "plt.figure(figsize=(12,8))\n",
    "\n",
    "from sklearn import tree\n",
    "\n",
    "tree.plot_tree(clf_en.fit(X_train, y_train))"
   ]
  },
  {
   "cell_type": "code",
   "execution_count": null,
   "id": "988e24c9",
   "metadata": {},
   "outputs": [],
   "source": [
    "c    86\n",
    "d    49\n",
    "b    45\n",
    "e    40\n",
    "a    19"
   ]
  },
  {
   "cell_type": "code",
   "execution_count": 247,
   "id": "adaa99a8",
   "metadata": {},
   "outputs": [
    {
     "data": {
      "image/png": "[encoded data removed]",
      "text/plain": [
       "<Figure size 2500x2000 with 1 Axes>"
      ]
     },
     "metadata": {},
     "output_type": "display_data"
    }
   ],
   "source": [
    "from sklearn.tree import plot_tree\n",
    "import matplotlib.pyplot as plt\n",
    "\n",
    "fig = plt.figure(figsize=((25,20)))\n",
    "plot_tree(dtree,\n",
    "            feature_names = X.columns,\n",
    "            class_names=['c','d','b','e','a'], \n",
    "            impurity=False,\n",
    "            proportion=True,\n",
    "            filled=True)\n",
    "fig.savefig('test.png')"
   ]
  },
  {
   "cell_type": "code",
   "execution_count": null,
   "id": "8034b502",
   "metadata": {},
   "outputs": [],
   "source": [
    "d    49\n",
    "e    40\n",
    "c    21\n",
    "b "
   ]
  },
  {
   "cell_type": "code",
   "execution_count": null,
   "id": "e001c663",
   "metadata": {},
   "outputs": [],
   "source": []
  }
 ],
 "metadata": {
  "kernelspec": {
   "display_name": "Python 3 (ipykernel)",
   "language": "python",
   "name": "python3"
  },
  "language_info": {
   "codemirror_mode": {
    "name": "ipython",
    "version": 3
   },
   "file_extension": ".py",
   "mimetype": "text/x-python",
   "name": "python",
   "nbconvert_exporter": "python",
   "pygments_lexer": "ipython3",
   "version": "3.8.13"
  }
 },
 "nbformat": 4,
 "nbformat_minor": 5
}
